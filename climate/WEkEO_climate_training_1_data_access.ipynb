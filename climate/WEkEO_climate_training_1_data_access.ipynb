{
 "cells": [
  {
   "cell_type": "markdown",
   "metadata": {},
   "source": [
    "<img src='./img/LogoWekeo_Copernicus_RGB_0.png' align='right' width='20%'></img>"
   ]
  },
  {
   "cell_type": "markdown",
   "metadata": {},
   "source": [
    "# Tutorial on climate data access through WEkEO"
   ]
  },
  {
   "cell_type": "markdown",
   "metadata": {},
   "source": [
    "This tutorial focusses on how to access climate data through [WEkEO](https://www.wekeo.eu/), the EU Copernicus DIAS (Data and Information Access Service) reference service for environmental data. In addition to data, WEkEO provides virtual processing environments and skilled user support.\n",
    "\n",
    "WEkEO offers access to satellite data from the Sentinel missions, and many products produced by the Copernicus climate change, atmosphere, marine and land monitoring services. \n",
    "\n",
    "The Copernicus Climate Change service provides authoritative information about the past, present and future climate. Its product portfolio includes the following:\n",
    "\n",
    "- **Satellite and in-situ observations**\n",
    "- **Reanalysis**\n",
    "- **Seasonal forecasts**\n",
    "- **Climate projections**\n",
    "- **Climate indices**\n",
    "\n",
    "This data is accessible through the [C3S Climate Data Store (CDS)](https://cds.climate.copernicus.eu/), and in future also through WEkEO. While some C3S datasets are available through WEkEO, this is still work in progress. This Jupyter Notebook demonstrates how to access data through WEkEO, but please be aware that for the time being, C3S data should be accessed via the CDS. \n",
    "\n",
    "Users can access data from WEkEO either directly from the [WEkEO web platform](https://www.wekeo.eu/), or through the [Harmonised Data Access (HDA) API](https://www.wekeo.eu/documentation/using_jupyter_notebooks), which is a REST interface.\n",
    "\n",
    "This Jupyter Notebook is a step-by-step guide on how to search for and download data from WEkEO using the `HDA API`. It makes use of functions stored in the notebook [hda_api_functions](./hda_api_functions.ipynb).\n",
    "\n",
    "The tutorial consists of the following steps:\n",
    "\n",
    "1. [Search for datasets on WEkEO](#wekeo_search)\n",
    "2. [Get your WEkEO API key](#wekeo_api_key)\n",
    "3. [Initialise the WEkEO Harmonised Data Access request](#wekeo_hda_request)\n",
    "4. [Load data descriptor file and request data](#wekeo_request)\n",
    "5. [Download requested data](#wekeo_download)\n",
    " \n",
    "Having downloaded data, follow the step below to view it and create a simple plot:\n",
    " \n",
    "6. [View and plot data](#wekeo_view)"
   ]
  },
  {
   "cell_type": "markdown",
   "metadata": {},
   "source": [
    "#### Load required libraries"
   ]
  },
  {
   "cell_type": "code",
   "execution_count": 1,
   "metadata": {},
   "outputs": [],
   "source": [
    "import os\n",
    "import sys\n",
    "import json\n",
    "from zipfile import ZipFile\n",
    "import time\n",
    "import base64\n",
    "from IPython.core.display import HTML\n",
    "\n",
    "import requests\n",
    "import warnings\n",
    "warnings.filterwarnings('ignore')\n",
    "\n",
    "import numpy as np\n",
    "import xarray as xr"
   ]
  },
  {
   "cell_type": "markdown",
   "metadata": {},
   "source": [
    "#### Load helper functions"
   ]
  },
  {
   "cell_type": "code",
   "execution_count": 3,
   "metadata": {},
   "outputs": [],
   "source": [
    "from hda_api_functions import *"
   ]
  },
  {
   "cell_type": "markdown",
   "metadata": {},
   "source": [
    "<hr>"
   ]
  },
  {
   "cell_type": "markdown",
   "metadata": {},
   "source": [
    "### <a id='wekeo_search'></a>1. Search for datasets on WEkEO"
   ]
  },
  {
   "cell_type": "markdown",
   "metadata": {},
   "source": [
    "Under [WEkEO DATA](https://wekeo.eu/data?view=catalogue). Clicking the + to add a layer, opens a catalogue search. Here you can use free text, or you can use the filter options on the left to refine your search and look by satellite plaform, sensor, Copernicus service, area (region of interest), general time period (past or future), as well as through a variety of flags.\n",
    "\n",
    "You can click on the dataset you are interested in and you will be guided to a range of details including the dataset temporal and spatial extent, collection ID, and metadata.\n",
    "\n",
    "Now search for the product `Sea level daily gridded data for the global ocean from 1993 to present`. You can find it more easily by selecting 'C3S (Climate)' in the 'COPERNICUS SERVICE' filter group. \n",
    "\n",
    "Once you have found it, select 'Details' to read the dataset description.\n",
    "\n",
    "<br>\n",
    "\n",
    "<div style='text-align:center;'>\n",
    "<figure><img src='./img/WEkEO_data.png' width='70%' />\n",
    "    <figcaption><i>WEkEO interface to search for datasets</i></figcaption>\n",
    "</figure>\n",
    "</div>"
   ]
  },
  {
   "cell_type": "markdown",
   "metadata": {},
   "source": [
    "The dataset description provides the following information:\n",
    "- **Abstract**, containing a general description of the dataset,\n",
    "- **Classification**, including the Dataset ID \n",
    "- **Resources**, such as a link to the Product Data Format Specification guide, and JSON metadata\n",
    "- **Contacts**, where you can find further information about the data source from its provider.  \n",
    "\n",
    "You need the `Dataset ID` to request data from the Harmonised Data Access API. \n",
    "\n",
    "<br>\n",
    "\n",
    "<div style='text-align:center;'>\n",
    "<figure><img src='./img/SeaLevel_info.png' width='40%' />\n",
    "    <figcaption><i>Dataset information on WEkEO</i></figcaption>\n",
    "</figure>\n",
    "</div>\n",
    "<br>\n",
    "\n",
    "Let's store the Dataset ID as a variable called `dataset_id` to be used later."
   ]
  },
  {
   "cell_type": "code",
   "execution_count": 4,
   "metadata": {},
   "outputs": [],
   "source": [
    "dataset_id = \"EO:ECMWF:DAT:SEA_LEVEL_DAILY_GRIDDED_DATA_FOR_GL\""
   ]
  },
  {
   "cell_type": "markdown",
   "metadata": {},
   "source": [
    "Now select `Add to map` in the data description to add the selected dataset to the list of layers in your map view. Once the dataset appears as a layer, select the `subset and download` icon. This will enable you to specify the variables, temporal and in some cases geographic extent of the data you would like to download. Select `2019` as year, `August` as month, and `15` as day. Then select `Zip file` as format.\n",
    "\n",
    "Now select `Show API request`. This will show the details of your selection in `JSON` format. If you now select `Copy`, you can copy these details to the clipboard then paste it either into a text file to create a `JSON` file (see example [here](./SeaLevel_data_descriptor.json)), or paste it directly into the cell below.\n",
    "\n",
    "The Harmonised Data Access API can read this information, which is in the form of a dictionary with the following keys:\n",
    "- `datasetID`: the dataset's collection ID\n",
    "- `stringChoiceValues`: type of dataset, e.g. 'Non Time Critical'\n",
    "- `dataRangeSelectValues`: time period you would like to retrieve data\n",
    "- `boundingBoxValues`: optional to define a subset of a global field\n",
    "\n",
    "<br>\n",
    "\n",
    "<div style='text-align:center;'>\n",
    "<figure><img src='./img/SeaLevel_params_json.png' width='60%' />\n",
    "    <figcaption><i>Displaying a JSON query from a request made to the Harmonised Data Access API through the data portal</i></figcaption>\n",
    "</figure>\n",
    "</div>\n",
    "<br>"
   ]
  },
  {
   "cell_type": "markdown",
   "metadata": {},
   "source": [
    "If you created a `JSON` file, you can load it with `json.load()`:"
   ]
  },
  {
   "cell_type": "code",
   "execution_count": 5,
   "metadata": {},
   "outputs": [
    {
     "name": "stdout",
     "output_type": "stream",
     "text": [
      "Your JSON file:\n",
      "{'datasetId': 'EO:ECMWF:DAT:SEA_LEVEL_DAILY_GRIDDED_DATA_FOR_GLOBAL_OCEAN_1993_PRESENT', 'multiStringSelectValues': [{'name': 'variable', 'value': ['all']}, {'name': 'year', 'value': ['2019']}, {'name': 'month', 'value': ['08']}, {'name': 'day', 'value': ['15']}], 'stringChoiceValues': [{'name': 'format', 'value': 'zip'}]}\n"
     ]
    }
   ],
   "source": [
    "try:\n",
    "    with open('./SeaLevel_data_descriptor.json', 'r') as f:\n",
    "        data = json.load(f)\n",
    "    print('Your JSON file:')\n",
    "    print(data)\n",
    "except:\n",
    "    print('Your JSON file is not in the correct format, or is not found, please check it!')"
   ]
  },
  {
   "cell_type": "markdown",
   "metadata": {},
   "source": [
    "Alternatively, you can paste the dictionary describing your data into a cell, as done below:"
   ]
  },
  {
   "cell_type": "code",
   "execution_count": 6,
   "metadata": {},
   "outputs": [],
   "source": [
    "data = {\n",
    "  \"datasetId\": \"EO:ECMWF:DAT:SEA_LEVEL_DAILY_GRIDDED_DATA_FOR_GLOBAL_OCEAN_1993_PRESENT\",\n",
    "  \"multiStringSelectValues\": [\n",
    "    {\n",
    "      \"name\": \"variable\",\n",
    "      \"value\": [\n",
    "        \"all\"\n",
    "      ]\n",
    "    },\n",
    "    {\n",
    "      \"name\": \"year\",\n",
    "      \"value\": [\n",
    "        \"2019\"\n",
    "      ]\n",
    "    },\n",
    "    {\n",
    "      \"name\": \"month\",\n",
    "      \"value\": [\n",
    "        \"08\"\n",
    "      ]\n",
    "    },\n",
    "    {\n",
    "      \"name\": \"day\",\n",
    "      \"value\": [\n",
    "        \"15\"\n",
    "      ]\n",
    "    }\n",
    "  ],\n",
    "  \"stringChoiceValues\": [\n",
    "    {\n",
    "      \"name\": \"format\",\n",
    "      \"value\": \"zip\"\n",
    "    }\n",
    "  ]\n",
    "}"
   ]
  },
  {
   "cell_type": "markdown",
   "metadata": {},
   "source": [
    "### <a id='wekeo_api_key'></a>2. Get the WEkEO API key"
   ]
  },
  {
   "cell_type": "markdown",
   "metadata": {},
   "source": [
    "In order to interact with WEkEO's Harmonised Data Access API, each user requires an `API token`. This token can be generated from an `API Key`. Your current token can be found in your [WEkEO Dashboard](https://www.wekeo.eu/web/guest/dashboard) under Settings, but it is better to do it in a programmatic way, as shown below, as tokens have a limited lifetime of 1 hour!\n",
    "\n",
    "The `API key` can generated by encoding your `username` and `password` to Base64. You can use the function [generate_api_key](./hda_api_functions.ipynb#generate_api_key) to programmatically generate your Base64-encoded api key. For this, you have to replace the 'username' and 'password' strings with your WEkEO username and password in the cell below.\n",
    "\n",
    "Alternatively, you can go to this [website](https://www.base64encode.org/) that allows you to manually encode your `username:password` combination. An example of an encoded key is `wekeo-test:wekeo-test`, which is encoded to `d2VrZW8tdGVzdDp3ZWtlby10ZXN0`."
   ]
  },
  {
   "cell_type": "code",
   "execution_count": null,
   "metadata": {},
   "outputs": [],
   "source": [
    "# your WEkEO API username and password (needs to be in '  ')\n",
    "user_name = 'USERNAME'\n",
    "password = 'PASSWORD'"
   ]
  },
  {
   "cell_type": "code",
   "execution_count": 7,
   "metadata": {},
   "outputs": [],
   "source": [
    "user_name = 'cstewart'\n",
    "password = 'irisafig'"
   ]
  },
  {
   "cell_type": "code",
   "execution_count": 8,
   "metadata": {},
   "outputs": [
    {
     "data": {
      "text/html": [
       "Your API key is: <b>Y3N0ZXdhcnQ6aXJpc2FmaWc=</b>"
      ],
      "text/plain": [
       "<IPython.core.display.HTML object>"
      ]
     },
     "metadata": {},
     "output_type": "display_data"
    }
   ],
   "source": [
    "api_key = generate_api_key(user_name, password)\n",
    "display(HTML('Your API key is: <b>'+api_key+'</b>'))"
   ]
  },
  {
   "cell_type": "markdown",
   "metadata": {},
   "source": [
    "#### Alternative: enter manually the generated api key"
   ]
  },
  {
   "cell_type": "code",
   "execution_count": null,
   "metadata": {},
   "outputs": [],
   "source": [
    "api_key = "
   ]
  },
  {
   "cell_type": "markdown",
   "metadata": {},
   "source": [
    "### <a id='wekeo_hda_request'></a>3. Initialise the Harmonised Data Access (HDA) API request"
   ]
  },
  {
   "cell_type": "markdown",
   "metadata": {},
   "source": [
    "In order to initialise an API request, you have to initialise a dictionary that contains information on `dataset_id`, `api_key` and `download_directory_path`.\n",
    "\n",
    "Please enter the path of the directory where the data shall be downloaded to."
   ]
  },
  {
   "cell_type": "code",
   "execution_count": 9,
   "metadata": {},
   "outputs": [],
   "source": [
    "# Enter here the directory path where you want to download the data to\n",
    "download_dir_path = os.getcwd()"
   ]
  },
  {
   "cell_type": "markdown",
   "metadata": {},
   "source": [
    "With `dataset_id`, `api_key` and `download_dir_path`, you can initialise the dictionary with the function [init](./hda_api_functions.ipynb#init)."
   ]
  },
  {
   "cell_type": "code",
   "execution_count": 10,
   "metadata": {},
   "outputs": [],
   "source": [
    "hda_dict = init(dataset_id, api_key, download_dir_path)"
   ]
  },
  {
   "cell_type": "markdown",
   "metadata": {},
   "source": [
    "#### Request access token"
   ]
  },
  {
   "cell_type": "markdown",
   "metadata": {},
   "source": [
    "Once initialised, you can request an access token with the function [get_access_token](./hda_api_functions.ipynb#get_access_token). The access token is stored in the `hda_dict` dictionary.\n",
    "\n",
    "You might need to accept the Terms and Conditions, which you can do with the function [acceptTandC](./hda_api_functions.ipynb#acceptTandC)."
   ]
  },
  {
   "cell_type": "code",
   "execution_count": 11,
   "metadata": {},
   "outputs": [
    {
     "name": "stdout",
     "output_type": "stream",
     "text": [
      "Getting an access token. This token is valid for one hour only.\n",
      "Success: Access token is 09168ad9-1da6-35bf-994b-0412deec88ae\n"
     ]
    }
   ],
   "source": [
    "hda_dict = get_access_token(hda_dict)"
   ]
  },
  {
   "cell_type": "markdown",
   "metadata": {},
   "source": [
    "#### Accept Terms and Conditions (if applicable)"
   ]
  },
  {
   "cell_type": "code",
   "execution_count": 12,
   "metadata": {},
   "outputs": [
    {
     "name": "stdout",
     "output_type": "stream",
     "text": [
      "Copernicus_General_License Terms and Conditions already accepted\n"
     ]
    }
   ],
   "source": [
    "hda_dict = acceptTandC(hda_dict)"
   ]
  },
  {
   "cell_type": "markdown",
   "metadata": {},
   "source": [
    "### <a id='wekeo_request'></a>4. Request data"
   ]
  },
  {
   "cell_type": "markdown",
   "metadata": {},
   "source": [
    "#### Initiate the request by assigning a job ID"
   ]
  },
  {
   "cell_type": "markdown",
   "metadata": {},
   "source": [
    "The function [get_job_id](./hda_api_functions.ipynb#get_job_id) will launch your data request and your request is assigned a `job ID`."
   ]
  },
  {
   "cell_type": "code",
   "execution_count": 13,
   "metadata": {},
   "outputs": [
    {
     "name": "stdout",
     "output_type": "stream",
     "text": [
      "Query successfully submitted. Job ID is vy7La4FdvuBfFAmR0p6E5ex48LI\n",
      "Query successfully submitted. Status is running\n",
      "Query successfully submitted. Status is running\n",
      "Query successfully submitted. Status is running\n",
      "Query successfully submitted. Status is running\n",
      "Query successfully submitted. Status is running\n",
      "Query successfully submitted. Status is running\n",
      "Query successfully submitted. Status is running\n",
      "Query successfully submitted. Status is running\n",
      "Query successfully submitted. Status is running\n",
      "Query successfully submitted. Status is running\n",
      "Query successfully submitted. Status is running\n",
      "Query successfully submitted. Status is running\n",
      "Query successfully submitted. Status is running\n",
      "Query successfully submitted. Status is running\n",
      "Query successfully submitted. Status is running\n",
      "Query successfully submitted. Status is running\n",
      "Query successfully submitted. Status is completed\n"
     ]
    }
   ],
   "source": [
    "hda_dict = get_job_id(hda_dict, data)"
   ]
  },
  {
   "cell_type": "markdown",
   "metadata": {},
   "source": [
    "#### Build list of file names to be ordered and downloaded"
   ]
  },
  {
   "cell_type": "markdown",
   "metadata": {},
   "source": [
    "The next step is to gather a list of file names available, based on your assigned `job ID`. The function [get_results_list](./hda_api_functions.ipynb#get_results_list) creates the list."
   ]
  },
  {
   "cell_type": "code",
   "execution_count": 14,
   "metadata": {},
   "outputs": [
    {
     "name": "stdout",
     "output_type": "stream",
     "text": [
      "************** Results *******************************\n",
      "{\n",
      "    \"content\": [\n",
      "        {\n",
      "            \"downloadUri\": null,\n",
      "            \"filename\": \"dataset-satellite-sea-level-global-48ffff29-fc03-4dc0-bf38-6e071421c012.zip\",\n",
      "            \"order\": null,\n",
      "            \"productInfo\": {\n",
      "                \"datasetId\": \"EO:ECMWF:DAT:SEA_LEVEL_DAILY_GRIDDED_DATA_FOR_GLOBAL_OCEAN_1993_PRESENT\",\n",
      "                \"product\": \"cd8e07c22e4708572029372af1c27249\",\n",
      "                \"productEndDate\": \"2020-11-05T14:59:19Z\",\n",
      "                \"productStartDate\": \"2020-11-05T14:59:19Z\"\n",
      "            },\n",
      "            \"size\": 7860679,\n",
      "            \"url\": \"http://136.156.133.37/cache-compute-0011/cache/data8/dataset-satellite-sea-level-global-48ffff29-fc03-4dc0-bf38-6e071421c012.zip\"\n",
      "        }\n",
      "    ],\n",
      "    \"itemsInPage\": 1,\n",
      "    \"nextPage\": null,\n",
      "    \"page\": 0,\n",
      "    \"pages\": 1,\n",
      "    \"previousPage\": null,\n",
      "    \"totItems\": 1\n",
      "}\n",
      "*******************************************\n"
     ]
    }
   ],
   "source": [
    "hda_dict = get_results_list(hda_dict)"
   ]
  },
  {
   "cell_type": "markdown",
   "metadata": {},
   "source": [
    "#### Create an `order ID` for each file to be downloaded"
   ]
  },
  {
   "cell_type": "markdown",
   "metadata": {},
   "source": [
    "The next step is to create an `order ID` for each file name to be downloaded. You can use the function [get_order_ids](./hda_api_functions.ipynb#get_order_ids)."
   ]
  },
  {
   "cell_type": "code",
   "execution_count": 15,
   "metadata": {
    "scrolled": true
   },
   "outputs": [
    {
     "name": "stdout",
     "output_type": "stream",
     "text": [
      "Query successfully submitted. Order ID is YZsrbEL1gNGSERpiqi5QIrb7-0Q\n",
      "Query successfully submitted. Status is completed\n"
     ]
    }
   ],
   "source": [
    "hda_dict = get_order_ids(hda_dict)"
   ]
  },
  {
   "cell_type": "markdown",
   "metadata": {},
   "source": [
    "### <a id='wekeo_download'></a>5. Download requested data"
   ]
  },
  {
   "cell_type": "markdown",
   "metadata": {},
   "source": [
    "As a final step, you can use the function [download_data](./hda_api_functions.ipynb#download_data) to initialize the data download and to download each file that has been assigned an `order ID`. "
   ]
  },
  {
   "cell_type": "code",
   "execution_count": 16,
   "metadata": {},
   "outputs": [
    {
     "name": "stdout",
     "output_type": "stream",
     "text": [
      "Downloading /home/cstewart/dataset-satellite-sea-level-global-48ffff29-fc03-4dc0-bf38-6e071421c012.zip\n",
      "File size is:     7.50 MB\n",
      "[==================================================]     59.29 Mbps[    7.50] MB downloaded, 60424.73 kbps\n",
      "Download complete...\n",
      "Time Elapsed: 0.12708389500000017 seconds\n",
      "Query successfully submitted. Response is <Response [200]>\n"
     ]
    }
   ],
   "source": [
    "hda_dict = download_data(hda_dict)"
   ]
  },
  {
   "cell_type": "markdown",
   "metadata": {},
   "source": [
    "### <a id='wekeo_view'></a>6. View and plot data"
   ]
  },
  {
   "cell_type": "markdown",
   "metadata": {},
   "source": [
    "First we need to unzip the file we downloaded:"
   ]
  },
  {
   "cell_type": "code",
   "execution_count": 17,
   "metadata": {},
   "outputs": [],
   "source": [
    "zip_file = r'dataset-satellite-sea-level-global-48ffff29-fc03-4dc0-bf38-6e071421c012.zip'\n",
    "\n",
    "# Create a ZipFile Object and load sample.zip in it\n",
    "with ZipFile(zip_file, 'r') as zipObj:\n",
    "   # Extract all the contents of zip file in current directory\n",
    "   zipObj.extractall()"
   ]
  },
  {
   "cell_type": "markdown",
   "metadata": {},
   "source": [
    "Having unzipped the file, notice that the data is in NetCDF format (.nc file). This is a commonly used format for array-oriented scientific data. \n",
    "\n",
    "To read and view this data we will make use of the Xarray library. Xarray is an open source project and Python package that makes working with labelled multi-dimensional arrays simple, efficient, and fun! We will read the data from our NetCDF file into an Xarray **\"dataset\"**"
   ]
  },
  {
   "cell_type": "code",
   "execution_count": 18,
   "metadata": {},
   "outputs": [],
   "source": [
    "nc_file = r'dt_global_twosat_phy_l4_20190815_vDT2018.nc'\n",
    "ds = xr.open_dataset(nc_file)"
   ]
  },
  {
   "cell_type": "markdown",
   "metadata": {},
   "source": [
    "Now we can query our newly created Xarray dataset:"
   ]
  },
  {
   "cell_type": "code",
   "execution_count": 19,
   "metadata": {},
   "outputs": [
    {
     "data": {
      "text/html": [
       "<pre>&lt;xarray.Dataset&gt;\n",
       "Dimensions:    (latitude: 720, longitude: 1440, nv: 2, time: 1)\n",
       "Coordinates:\n",
       "  * time       (time) datetime64[ns] 2019-08-15\n",
       "  * latitude   (latitude) float32 -89.875 -89.625 -89.375 ... 89.625 89.875\n",
       "  * longitude  (longitude) float32 0.125 0.375 0.625 ... 359.375 359.625 359.875\n",
       "  * nv         (nv) int32 0 1\n",
       "Data variables:\n",
       "    crs        int32 ...\n",
       "    lat_bnds   (latitude, nv) float32 ...\n",
       "    lon_bnds   (longitude, nv) float32 ...\n",
       "    err        (time, latitude, longitude) float64 ...\n",
       "    adt        (time, latitude, longitude) float64 ...\n",
       "    ugos       (time, latitude, longitude) float64 ...\n",
       "    vgos       (time, latitude, longitude) float64 ...\n",
       "    sla        (time, latitude, longitude) float64 ...\n",
       "    ugosa      (time, latitude, longitude) float64 ...\n",
       "    vgosa      (time, latitude, longitude) float64 ...\n",
       "Attributes:\n",
       "    Conventions:                     CF-1.6\n",
       "    Metadata_Conventions:            Unidata Dataset Discovery v1.0\n",
       "    cdm_data_type:                   Grid\n",
       "    comment:                         Sea Surface Height measured by Altimetry...\n",
       "    contact:                         http://climate.copernicus.eu/c3s-user-se...\n",
       "    creator_email:                   http://climate.copernicus.eu/c3s-user-se...\n",
       "    creator_name:                    Copernicus Climate Change Service (C3S)\n",
       "    creator_url:                     http://climate.copernicus.eu\n",
       "    date_created:                    2020-03-19T14:23:38Z\n",
       "    date_issued:                     2020-03-19T14:23:38Z\n",
       "    date_modified:                   2020-03-19T14:23:38Z\n",
       "    geospatial_lat_max:              89.875\n",
       "    geospatial_lat_min:              -89.875\n",
       "    geospatial_lat_resolution:       0.25\n",
       "    geospatial_lat_units:            degrees_north\n",
       "    geospatial_lon_max:              359.875\n",
       "    geospatial_lon_min:              0.125\n",
       "    geospatial_lon_resolution:       0.25\n",
       "    geospatial_lon_units:            degrees_east\n",
       "    geospatial_vertical_max:         0.0\n",
       "    geospatial_vertical_min:         0.0\n",
       "    geospatial_vertical_positive:    down\n",
       "    geospatial_vertical_resolution:  point\n",
       "    geospatial_vertical_units:       m\n",
       "    history:                         2020-03-19 14:23:39Z: Creation\n",
       "    institution:                     CLS, CNES\n",
       "    keywords:                        Oceans &gt; Ocean Topography &gt; Sea Surface ...\n",
       "    keywords_vocabulary:             NetCDF COARDS Climate and Forecast Stand...\n",
       "    license:                         http://climate.copernicus.eu/c3s-user-se...\n",
       "    platform:                        Jason-3, Sentinel-3A\n",
       "    processing_level:                L4\n",
       "    product_version:                 2020\n",
       "    project:                         Copernicus Climate Change Service (C3S)\n",
       "    references:                      http://climate.copernicus.eu\n",
       "    software_version:                6.3_DUACS_DT2018_baseline\n",
       "    source:                          Altimetry measurements\n",
       "    ssalto_duacs_comment:            The reference mission used for the altim...\n",
       "    standard_name_vocabulary:        NetCDF Climate and Forecast (CF) Metadat...\n",
       "    summary:                         SSALTO/DUACS Delayed-Time Level-4 sea su...\n",
       "    time_coverage_duration:          P1D\n",
       "    time_coverage_end:               2019-08-15T00:00:00Z\n",
       "    time_coverage_resolution:        P1D\n",
       "    time_coverage_start:             2019-08-15T00:00:00Z\n",
       "    title:                           DT merged two satellites Global Ocean Gr...</pre>"
      ],
      "text/plain": [
       "<xarray.Dataset>\n",
       "Dimensions:    (latitude: 720, longitude: 1440, nv: 2, time: 1)\n",
       "Coordinates:\n",
       "  * time       (time) datetime64[ns] 2019-08-15\n",
       "  * latitude   (latitude) float32 -89.875 -89.625 -89.375 ... 89.625 89.875\n",
       "  * longitude  (longitude) float32 0.125 0.375 0.625 ... 359.375 359.625 359.875\n",
       "  * nv         (nv) int32 0 1\n",
       "Data variables:\n",
       "    crs        int32 ...\n",
       "    lat_bnds   (latitude, nv) float32 ...\n",
       "    lon_bnds   (longitude, nv) float32 ...\n",
       "    err        (time, latitude, longitude) float64 ...\n",
       "    adt        (time, latitude, longitude) float64 ...\n",
       "    ugos       (time, latitude, longitude) float64 ...\n",
       "    vgos       (time, latitude, longitude) float64 ...\n",
       "    sla        (time, latitude, longitude) float64 ...\n",
       "    ugosa      (time, latitude, longitude) float64 ...\n",
       "    vgosa      (time, latitude, longitude) float64 ...\n",
       "Attributes:\n",
       "    Conventions:                     CF-1.6\n",
       "    Metadata_Conventions:            Unidata Dataset Discovery v1.0\n",
       "    cdm_data_type:                   Grid\n",
       "    comment:                         Sea Surface Height measured by Altimetry...\n",
       "    contact:                         http://climate.copernicus.eu/c3s-user-se...\n",
       "    creator_email:                   http://climate.copernicus.eu/c3s-user-se...\n",
       "    creator_name:                    Copernicus Climate Change Service (C3S)\n",
       "    creator_url:                     http://climate.copernicus.eu\n",
       "    date_created:                    2020-03-19T14:23:38Z\n",
       "    date_issued:                     2020-03-19T14:23:38Z\n",
       "    date_modified:                   2020-03-19T14:23:38Z\n",
       "    geospatial_lat_max:              89.875\n",
       "    geospatial_lat_min:              -89.875\n",
       "    geospatial_lat_resolution:       0.25\n",
       "    geospatial_lat_units:            degrees_north\n",
       "    geospatial_lon_max:              359.875\n",
       "    geospatial_lon_min:              0.125\n",
       "    geospatial_lon_resolution:       0.25\n",
       "    geospatial_lon_units:            degrees_east\n",
       "    geospatial_vertical_max:         0.0\n",
       "    geospatial_vertical_min:         0.0\n",
       "    geospatial_vertical_positive:    down\n",
       "    geospatial_vertical_resolution:  point\n",
       "    geospatial_vertical_units:       m\n",
       "    history:                         2020-03-19 14:23:39Z: Creation\n",
       "    institution:                     CLS, CNES\n",
       "    keywords:                        Oceans > Ocean Topography > Sea Surface ...\n",
       "    keywords_vocabulary:             NetCDF COARDS Climate and Forecast Stand...\n",
       "    license:                         http://climate.copernicus.eu/c3s-user-se...\n",
       "    platform:                        Jason-3, Sentinel-3A\n",
       "    processing_level:                L4\n",
       "    product_version:                 2020\n",
       "    project:                         Copernicus Climate Change Service (C3S)\n",
       "    references:                      http://climate.copernicus.eu\n",
       "    software_version:                6.3_DUACS_DT2018_baseline\n",
       "    source:                          Altimetry measurements\n",
       "    ssalto_duacs_comment:            The reference mission used for the altim...\n",
       "    standard_name_vocabulary:        NetCDF Climate and Forecast (CF) Metadat...\n",
       "    summary:                         SSALTO/DUACS Delayed-Time Level-4 sea su...\n",
       "    time_coverage_duration:          P1D\n",
       "    time_coverage_end:               2019-08-15T00:00:00Z\n",
       "    time_coverage_resolution:        P1D\n",
       "    time_coverage_start:             2019-08-15T00:00:00Z\n",
       "    title:                           DT merged two satellites Global Ocean Gr..."
      ]
     },
     "execution_count": 19,
     "metadata": {},
     "output_type": "execute_result"
    }
   ],
   "source": [
    "ds"
   ]
  },
  {
   "cell_type": "markdown",
   "metadata": {},
   "source": [
    "We see that the dataset has multiple variables and coordinates. We would like to plot a map of the absolute dynamic topography (the sea surface height above geoid). The variable for this is **'adt'**.\n",
    "\n",
    "While an Xarray **dataset** may contain multiple variables, an Xarray **data array** holds a single multi-dimensional variable and its coordinates. To make the processing of the **adt** data easier, we convert in into an Xarray data array."
   ]
  },
  {
   "cell_type": "code",
   "execution_count": 20,
   "metadata": {},
   "outputs": [],
   "source": [
    "da = ds['adt']"
   ]
  },
  {
   "cell_type": "markdown",
   "metadata": {},
   "source": [
    "We can now use the \"plot\" function of Xarray to create a simple plot of this variable."
   ]
  },
  {
   "cell_type": "code",
   "execution_count": 21,
   "metadata": {},
   "outputs": [
    {
     "data": {
      "text/plain": [
       "<matplotlib.collections.QuadMesh at 0x7f96bd4e7668>"
      ]
     },
     "execution_count": 21,
     "metadata": {},
     "output_type": "execute_result"
    },
    {
     "data": {
      "image/png": "[encoded data removed]",
      "text/plain": [
       "<Figure size 432x288 with 2 Axes>"
      ]
     },
     "metadata": {
      "needs_background": "light"
     },
     "output_type": "display_data"
    }
   ],
   "source": [
    "da.plot()"
   ]
  },
  {
   "cell_type": "markdown",
   "metadata": {},
   "source": [
    "<hr>"
   ]
  },
  {
   "cell_type": "markdown",
   "metadata": {},
   "source": [
    "<p><img src='./img/all_partners_wekeo.png' align='left' alt='Logo EU Copernicus' width='100%'></img></p>"
   ]
  }
 ],
 "metadata": {
  "kernelspec": {
   "display_name": "Python 3",
   "language": "python",
   "name": "python3"
  },
  "language_info": {
   "codemirror_mode": {
    "name": "ipython",
    "version": 3
   },
   "file_extension": ".py",
   "mimetype": "text/x-python",
   "name": "python",
   "nbconvert_exporter": "python",
   "pygments_lexer": "ipython3",
   "version": "3.8.3"
  }
 },
 "nbformat": 4,
 "nbformat_minor": 4
}
