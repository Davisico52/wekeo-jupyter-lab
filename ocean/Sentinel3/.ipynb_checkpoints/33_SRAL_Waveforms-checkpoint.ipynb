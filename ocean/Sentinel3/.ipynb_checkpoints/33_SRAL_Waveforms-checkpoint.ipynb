{
 "cells": [
  {
   "cell_type": "markdown",
   "metadata": {},
   "source": [
    "<img src='./img/LogoWekeo_Copernicus_RGB_0.png' alt='' align='centre' width='30%'></img>\n",
    "\n",
    "## Altimetry waveforms from Sentinel-3 Surface Topography Mission ##"
   ]
  },
  {
   "cell_type": "markdown",
   "metadata": {},
   "source": [
    "    Version: 3.0\n",
    "    Date:    13/07/2020\n",
    "    Author:  Ben Loveday (InnoFlair, Plymouth Marine Laboratory) and Hayley Evers-King (EUMETSAT)\n",
    "    Credit:  This code was developed for EUMETSAT under contracts for the European Commission Copernicus \n",
    "             programme.\n",
    "    License: This code is offered as open source and free-to-use in the public domain, \n",
    "             with no warranty, under the MIT license associated with this code repository."
   ]
  },
  {
   "cell_type": "markdown",
   "metadata": {},
   "source": [
    "As part of Copernicus, EUMETSAT operates the Surface Topography Mission (STM) on Sentinel-3. The mission consists of a package of instruments including the Synthetic Aperture radar altimetry (SRAL), Microwave Radiometer (MWR) and DORIS positioning antenna. Here we will look at the waveforms provided by this package of instruments.\n",
    "\n",
    "Waveforms are the fundamental signal that altimeters receive, and from which they derive all their information about the ocean surface. The shape of a waveform is determined by how a radar pulse interacts with the Earth's surface. Much more information on waveforms can be found <a href = \"http://www.altimetry.info/radar-altimetry-tutorial/how-altimetry-works/from-radar-pulse-to-altimetry-measurements/\">here</a>.\n",
    "\n",
    "For this notebook we will use Level-2 altimetry data from Sentinel-3.\n",
    "\n",
    "<div class=\"alert alert-block alert-warning\">\n",
    "    <b>Get the WEkEO User credentials</b>\n",
    "<hr>\n",
    "If you want to download the data to use this notebook, you will need WEkEO User credentials. If you do not have these, you can register <a href=\"https://www.wekeo.eu/web/guest/user-registration\" target=\"_blank\">here</a>."
   ]
  },
  {
   "cell_type": "code",
   "execution_count": 5,
   "metadata": {},
   "outputs": [],
   "source": [
    "#To start we'll import various Python modules that we need to download and work with data and make some plots.\n",
    "\n",
    "import os, sys\n",
    "import numpy as np\n",
    "import xarray as xr\n",
    "import matplotlib\n",
    "import matplotlib.pyplot as plt\n",
    "import matplotlib as mpl\n",
    "import matplotlib.lines as mlines\n",
    "from matplotlib import dates\n",
    "import json\n",
    "from IPython.core.display import display, HTML\n",
    "import glob\n",
    "from zipfile import ZipFile\n",
    "sys.path.append(os.path.join(os.path.dirname(os.path.dirname(os.getcwd())),'wekeo-hda'))\n",
    "import hda_api_functions as hapi"
   ]
  },
  {
   "cell_type": "code",
   "execution_count": 6,
   "metadata": {},
   "outputs": [],
   "source": [
    "#we will look at the plot within the notebooks\n",
    "%matplotlib inline\n",
    "plt.rcParams[\"figure.figsize\"] = (16,10)\n",
    "plt.ioff()\n",
    "matplotlib.rcParams.update({'font.size': 16})"
   ]
  },
  {
   "cell_type": "markdown",
   "metadata": {},
   "source": [
    "Now we will start our script, proper. First we need to get some data.\n",
    "\n",
    "WEkEO provides access to a huge number of datasets through its **'harmonised-data-access'** API. This allows us to query the full data catalogue and download data quickly and directly onto the Jupyter Lab. You can search for what data is available <a href=\"https://wekeo.eu/data?view=catalogue\">here</a>\n",
    "\n",
    "In order to use the HDA-API we need to provide some authentication credentials, which comes in the form of an API key and API token. In this notebook we have provided functions so you can retrieve the API key and token you need directly. You can find out more about this process in the notebook on HDA access (wekeo_harmonized_data_access_api.ipynb) that can be found in the **wekeo-hda** folder on your Jupyterlab.\n",
    "\n",
    "\n",
    "We will also define a few other parameters including where to download the data to, and if we want the HDA-API functions to be verbose. **Lastly, we will tell the notebook where to find the query we will use to find the data.** These 'JSON' queries are what we use to ask WEkEO for data. They have a very specific form, but allow us quite fine grained control over what data to get. You can find the example one that we will use here: **JSON_templates/EO_EUM_DAT_SENTINEL-3_SR_2_WAT___.json**"
   ]
  },
  {
   "cell_type": "code",
   "execution_count": 15,
   "metadata": {},
   "outputs": [
    {
     "data": {
      "text/html": [
       "Your API key is: <b>aGVrMTc6Q2FkYnVyeTE3IQ==</b>"
      ],
      "text/plain": [
       "<IPython.core.display.HTML object>"
      ]
     },
     "metadata": {},
     "output_type": "display_data"
    }
   ],
   "source": [
    "# set this key to true to download data.\n",
    "download_data = True\n",
    "\n",
    " # This reduces the resolution of the plot to conserve memory - increasing the number gives a coarser plot\n",
    "grid_factor = 3 \n",
    "\n",
    "# your WEkEO API username and password (needs to be in '  ')\n",
    "user_name = 'hek17'\n",
    "password = 'Cadbury17!'\n",
    "\n",
    "# Generate an API key\n",
    "api_key = hapi.generate_api_key(user_name, password)\n",
    "display(HTML('Your API key is: <b>'+api_key+'</b>'))"
   ]
  },
  {
   "cell_type": "code",
   "execution_count": 16,
   "metadata": {},
   "outputs": [],
   "source": [
    "# where the data should be downloaded to:\n",
    "download_dir_path = os.path.join(os.getcwd(),'products')\n",
    "# where we can find our data query form:\n",
    "JSON_query_dir = os.path.join(os.getcwd(),'JSON_templates')\n",
    "# HDA-API loud and noisy?\n",
    "verbose = False\n",
    "\n",
    "# make the output directory if required\n",
    "if not os.path.exists(download_dir_path):\n",
    "    os.makedirs(download_dir_path)"
   ]
  },
  {
   "cell_type": "markdown",
   "metadata": {},
   "source": [
    "Now we have set how we want the script to run, we are ready to get some data. We start this process by telling the script what kind of data we want. In this case, this is SLSTR level 2 data, which has the following designation on WEkEO: **EO:EUM:DAT:SENTINEL-3:SR_2_WAT___**."
   ]
  },
  {
   "cell_type": "code",
   "execution_count": 17,
   "metadata": {},
   "outputs": [],
   "source": [
    "# SLSTR LEVEL 2 Dataset ID\n",
    "dataset_id = \"EO:EUM:DAT:SENTINEL-3:SR_2_WAT___\""
   ]
  },
  {
   "cell_type": "markdown",
   "metadata": {},
   "source": [
    "Here, we use this dataset_id to find the correct, locally stored JSON query file which describes the data we want. The query file is called: **JSON_templates/EO_EUM_DAT_SENTINEL-3_SR_2_WAT___.json**\n",
    "\n",
    "You can edit this query if you want to get different data, but be aware of asking for too much data - you could be here a while and might run out of space to use this data in the JupyterLab. The box below gets the correct query file."
   ]
  },
  {
   "cell_type": "code",
   "execution_count": 18,
   "metadata": {},
   "outputs": [
    {
     "name": "stdout",
     "output_type": "stream",
     "text": [
      "Found JSON query file for EO:EUM:DAT:SENTINEL-3:SR_2_WAT___\n"
     ]
    }
   ],
   "source": [
    "# find query file\n",
    "JSON_query_file = os.path.join(JSON_query_dir,dataset_id.replace(':','_')+\".json\")\n",
    "if not os.path.exists(JSON_query_file):\n",
    "    print('Query file ' + JSON_query_file + ' does not exist')\n",
    "else:\n",
    "    print('Found JSON query file for '+dataset_id)"
   ]
  },
  {
   "cell_type": "markdown",
   "metadata": {},
   "source": [
    "Now we have a query, we need to launch it to WEkEO to get our data. The box below takes care of this through the following steps:\n",
    "    1. initialise our HDA-API\n",
    "    2. get an access token for our data\n",
    "    3. accepts the WEkEO terms and conditions\n",
    "    4. loads our JSON query into memory\n",
    "    5. launches our search\n",
    "    6. waits for our search results\n",
    "    7. gets our result list\n",
    "    8. downloads our data\n",
    "\n",
    "This is quite a complex process, so much of the functionality has been buried 'behind the scenes'. If you want more information, you can check out the **wekeo-hda** tool kit in the parent training directory. The code below will report some information as it runs. At the end, it should tell you that one product has been downloaded."
   ]
  },
  {
   "cell_type": "code",
   "execution_count": 19,
   "metadata": {},
   "outputs": [
    {
     "name": "stdout",
     "output_type": "stream",
     "text": [
      "Getting an access token. This token is valid for one hour only.\n"
     ]
    },
    {
     "name": "stderr",
     "output_type": "stream",
     "text": [
      "/opt/conda/lib/python3.7/site-packages/urllib3/connectionpool.py:1004: InsecureRequestWarning: Unverified HTTPS request is being made. Adding certificate verification is strongly advised. See: https://urllib3.readthedocs.io/en/latest/advanced-usage.html#ssl-warnings\n",
      "  InsecureRequestWarning,\n"
     ]
    },
    {
     "name": "stdout",
     "output_type": "stream",
     "text": [
      "Success: Access token is fffe090a-2ff5-3a6e-ab55-7ab3c9a98c21\n",
      "Copernicus_General_License Terms and Conditions already accepted\n",
      "Launching job...\n"
     ]
    },
    {
     "name": "stderr",
     "output_type": "stream",
     "text": [
      "/opt/conda/lib/python3.7/site-packages/urllib3/connectionpool.py:1004: InsecureRequestWarning: Unverified HTTPS request is being made. Adding certificate verification is strongly advised. See: https://urllib3.readthedocs.io/en/latest/advanced-usage.html#ssl-warnings\n",
      "  InsecureRequestWarning,\n"
     ]
    },
    {
     "name": "stdout",
     "output_type": "stream",
     "text": [
      "Query successfully submitted. Job ID is jAXW4oMRxwzWl2ChtU3HADjKCS8\n",
      "Query successfully submitted. Status is running\n",
      "Query successfully submitted. Status is completed\n",
      "Getting results...\n",
      "************** Results *******************************\n",
      "{\n",
      "    \"content\": [\n",
      "        {\n",
      "            \"downloadUri\": null,\n",
      "            \"filename\": \"S3A_SR_2_WAT____20200713T154837_20200713T155346_20200713T171003_0309_060_254______MAR_O_NR_004\",\n",
      "            \"order\": null,\n",
      "            \"productInfo\": {\n",
      "                \"datasetId\": \"EO:EUM:DAT:SENTINEL-3:SR_2_WAT___\",\n",
      "                \"product\": \"S3A_SR_2_WAT____20200713T154837_20200713T155346_20200713T171003_0309_060_254______MAR_O_NR_004\",\n",
      "                \"productEndDate\": \"2020-07-13T15:53:46.255000Z\",\n",
      "                \"productStartDate\": \"2020-07-13T15:48:36.531000Z\"\n",
      "            },\n",
      "            \"size\": 9332326,\n",
      "            \"url\": \"c1d1c0e8-7637-42f0-8950-b33fc3537876/S3A_SR_2_WAT____20200713T154837_20200713T155346_20200713T171003_0309_060_254______MAR_O_NR_004\"\n",
      "        },\n",
      "        {\n",
      "            \"downloadUri\": null,\n",
      "            \"filename\": \"S3A_SR_2_WAT____20200713T153837_20200713T154836_20200713T171203_0599_060_253______MAR_O_NR_004\",\n",
      "            \"order\": null,\n",
      "            \"productInfo\": {\n",
      "                \"datasetId\": \"EO:EUM:DAT:SENTINEL-3:SR_2_WAT___\",\n",
      "                \"product\": \"S3A_SR_2_WAT____20200713T153837_20200713T154836_20200713T171203_0599_060_253______MAR_O_NR_004\",\n",
      "                \"productEndDate\": \"2020-07-13T15:48:36.496000Z\",\n",
      "                \"productStartDate\": \"2020-07-13T15:38:36.510000Z\"\n",
      "            },\n",
      "            \"size\": 15424552,\n",
      "            \"url\": \"88362b04-8113-41cd-8ccf-abd12cdb9239/S3A_SR_2_WAT____20200713T153837_20200713T154836_20200713T171203_0599_060_253______MAR_O_NR_004\"\n",
      "        },\n",
      "        {\n",
      "            \"downloadUri\": null,\n",
      "            \"filename\": \"S3A_SR_2_WAT____20200713T152837_20200713T153836_20200713T170849_0599_060_253______MAR_O_NR_004\",\n",
      "            \"order\": null,\n",
      "            \"productInfo\": {\n",
      "                \"datasetId\": \"EO:EUM:DAT:SENTINEL-3:SR_2_WAT___\",\n",
      "                \"product\": \"S3A_SR_2_WAT____20200713T152837_20200713T153836_20200713T170849_0599_060_253______MAR_O_NR_004\",\n",
      "                \"productEndDate\": \"2020-07-13T15:38:36.475000Z\",\n",
      "                \"productStartDate\": \"2020-07-13T15:28:36.506000Z\"\n",
      "            },\n",
      "            \"size\": 15403581,\n",
      "            \"url\": \"d2ef48f6-30fd-4149-ad6e-7ac439088e0e/S3A_SR_2_WAT____20200713T152837_20200713T153836_20200713T170849_0599_060_253______MAR_O_NR_004\"\n",
      "        },\n",
      "        {\n",
      "            \"downloadUri\": null,\n",
      "            \"filename\": \"S3A_SR_2_WAT____20200713T152812_20200713T152836_20200713T165530_0024_060_253______MAR_O_NR_004\",\n",
      "            \"order\": null,\n",
      "            \"productInfo\": {\n",
      "                \"datasetId\": \"EO:EUM:DAT:SENTINEL-3:SR_2_WAT___\",\n",
      "                \"product\": \"S3A_SR_2_WAT____20200713T152812_20200713T152836_20200713T165530_0024_060_253______MAR_O_NR_004\",\n",
      "                \"productEndDate\": \"2020-07-13T15:28:36.456000Z\",\n",
      "                \"productStartDate\": \"2020-07-13T15:28:11.516000Z\"\n",
      "            },\n",
      "            \"size\": 3323985,\n",
      "            \"url\": \"9d2ada89-1a28-4b6c-8dc8-b890e83f714a/S3A_SR_2_WAT____20200713T152812_20200713T152836_20200713T165530_0024_060_253______MAR_O_NR_004\"\n",
      "        },\n",
      "        {\n",
      "            \"downloadUri\": null,\n",
      "            \"filename\": \"S3A_SR_2_WAT____20200713T150837_20200713T151826_20200713T170052_0589_060_253______MAR_O_NR_004\",\n",
      "            \"order\": null,\n",
      "            \"productInfo\": {\n",
      "                \"datasetId\": \"EO:EUM:DAT:SENTINEL-3:SR_2_WAT___\",\n",
      "                \"product\": \"S3A_SR_2_WAT____20200713T150837_20200713T151826_20200713T170052_0589_060_253______MAR_O_NR_004\",\n",
      "                \"productEndDate\": \"2020-07-13T15:18:26.431000Z\",\n",
      "                \"productStartDate\": \"2020-07-13T15:08:36.525000Z\"\n",
      "            },\n",
      "            \"size\": 15204352,\n",
      "            \"url\": \"e6cc43a6-ada4-43e7-8b1d-bb0574c93ae3/S3A_SR_2_WAT____20200713T150837_20200713T151826_20200713T170052_0589_060_253______MAR_O_NR_004\"\n",
      "        }\n",
      "    ],\n",
      "    \"itemsInPage\": 5,\n",
      "    \"nextPage\": \"https://wekeo-broker.apps.mercator.dpi.wekeo.eu/databroker/datarequest/jobs/jAXW4oMRxwzWl2ChtU3HADjKCS8/result?page=1&size=5\",\n",
      "    \"page\": 0,\n",
      "    \"pages\": 4,\n",
      "    \"previousPage\": null,\n",
      "    \"totItems\": 20\n",
      "}\n",
      "*******************************************\n"
     ]
    },
    {
     "name": "stderr",
     "output_type": "stream",
     "text": [
      "/opt/conda/lib/python3.7/site-packages/urllib3/connectionpool.py:1004: InsecureRequestWarning: Unverified HTTPS request is being made. Adding certificate verification is strongly advised. See: https://urllib3.readthedocs.io/en/latest/advanced-usage.html#ssl-warnings\n",
      "  InsecureRequestWarning,\n"
     ]
    },
    {
     "name": "stdout",
     "output_type": "stream",
     "text": [
      "Query successfully submitted. Order ID is n7b-kWZz8CxPHI6sMx33JaOO0qE\n",
      "Query successfully submitted. Status is running\n",
      "Query successfully submitted. Status is running\n",
      "Query successfully submitted. Status is running\n",
      "Query successfully submitted. Status is running\n",
      "Query successfully submitted. Status is running\n",
      "Query successfully submitted. Status is completed\n"
     ]
    },
    {
     "name": "stderr",
     "output_type": "stream",
     "text": [
      "/opt/conda/lib/python3.7/site-packages/urllib3/connectionpool.py:1004: InsecureRequestWarning: Unverified HTTPS request is being made. Adding certificate verification is strongly advised. See: https://urllib3.readthedocs.io/en/latest/advanced-usage.html#ssl-warnings\n",
      "  InsecureRequestWarning,\n"
     ]
    },
    {
     "name": "stdout",
     "output_type": "stream",
     "text": [
      "Query successfully submitted. Order ID is ONUlQdKZ0OrK8O9s-8oAXprLBxg\n",
      "Query successfully submitted. Status is running\n",
      "Query successfully submitted. Status is running\n",
      "Query successfully submitted. Status is running\n",
      "Query successfully submitted. Status is running\n",
      "Query successfully submitted. Status is completed\n"
     ]
    },
    {
     "name": "stderr",
     "output_type": "stream",
     "text": [
      "/opt/conda/lib/python3.7/site-packages/urllib3/connectionpool.py:1004: InsecureRequestWarning: Unverified HTTPS request is being made. Adding certificate verification is strongly advised. See: https://urllib3.readthedocs.io/en/latest/advanced-usage.html#ssl-warnings\n",
      "  InsecureRequestWarning,\n"
     ]
    },
    {
     "name": "stdout",
     "output_type": "stream",
     "text": [
      "Query successfully submitted. Order ID is ZDA-CqE3Q9WengEEFQswaAgl3yE\n",
      "Query successfully submitted. Status is running\n",
      "Query successfully submitted. Status is running\n",
      "Query successfully submitted. Status is running\n",
      "Query successfully submitted. Status is running\n",
      "Query successfully submitted. Status is running\n",
      "Query successfully submitted. Status is completed\n"
     ]
    },
    {
     "name": "stderr",
     "output_type": "stream",
     "text": [
      "/opt/conda/lib/python3.7/site-packages/urllib3/connectionpool.py:1004: InsecureRequestWarning: Unverified HTTPS request is being made. Adding certificate verification is strongly advised. See: https://urllib3.readthedocs.io/en/latest/advanced-usage.html#ssl-warnings\n",
      "  InsecureRequestWarning,\n"
     ]
    },
    {
     "name": "stdout",
     "output_type": "stream",
     "text": [
      "Query successfully submitted. Order ID is avfVoJhHJcGH8wZHwysTDm202Bo\n",
      "Query successfully submitted. Status is running\n",
      "Query successfully submitted. Status is running\n",
      "Query successfully submitted. Status is running\n",
      "Query successfully submitted. Status is running\n",
      "Query successfully submitted. Status is running\n",
      "Query successfully submitted. Status is running\n",
      "Query successfully submitted. Status is running\n",
      "Query successfully submitted. Status is running\n",
      "Query successfully submitted. Status is running\n",
      "Query successfully submitted. Status is completed\n"
     ]
    },
    {
     "name": "stderr",
     "output_type": "stream",
     "text": [
      "/opt/conda/lib/python3.7/site-packages/urllib3/connectionpool.py:1004: InsecureRequestWarning: Unverified HTTPS request is being made. Adding certificate verification is strongly advised. See: https://urllib3.readthedocs.io/en/latest/advanced-usage.html#ssl-warnings\n",
      "  InsecureRequestWarning,\n"
     ]
    },
    {
     "name": "stdout",
     "output_type": "stream",
     "text": [
      "Query successfully submitted. Order ID is qO90_r4wFJd2-6ChjyNI_FKcGaA\n",
      "Query successfully submitted. Status is running\n",
      "Query successfully submitted. Status is running\n",
      "Query successfully submitted. Status is running\n",
      "Query successfully submitted. Status is running\n",
      "Query successfully submitted. Status is running\n",
      "Query successfully submitted. Status is running\n",
      "Query successfully submitted. Status is running\n",
      "Query successfully submitted. Status is running\n",
      "Query successfully submitted. Status is running\n",
      "Query successfully submitted. Status is running\n",
      "Query successfully submitted. Status is running\n",
      "Query successfully submitted. Status is running\n",
      "Query successfully submitted. Status is running\n",
      "Query successfully submitted. Status is running\n",
      "Query successfully submitted. Status is running\n",
      "Query successfully submitted. Status is running\n",
      "Query successfully submitted. Status is running\n",
      "Query successfully submitted. Status is running\n",
      "Query successfully submitted. Status is completed\n",
      "Downloading data...\n",
      "Downloading /home/hek17/wekeo-jupyter-lab/ocean/Sentinel3/products/S3A_SR_2_WAT____20200713T154837_20200713T155346_20200713T171003_0309_060_254______MAR_O_NR_004.zip\n",
      "File size is:     8.90 MB\n",
      "[==================================================]     45.63 Mbps[    8.90] MB downloaded, 46598.17 kbps\n",
      "Download complete...\n",
      "Time Elapsed: 0.19575015699999998 seconds\n",
      "Downloading /home/hek17/wekeo-jupyter-lab/ocean/Sentinel3/products/S3A_SR_2_WAT____20200713T153837_20200713T154836_20200713T171203_0599_060_253______MAR_O_NR_004.zip\n",
      "File size is:    14.71 MB\n",
      "[==================================================]     43.74 Mbps[   14.71] MB downloaded, 44689.83 kbps\n",
      "Download complete...\n",
      "Time Elapsed: 0.337129397 seconds\n",
      "Downloading /home/hek17/wekeo-jupyter-lab/ocean/Sentinel3/products/S3A_SR_2_WAT____20200713T152837_20200713T153836_20200713T170849_0599_060_253______MAR_O_NR_004.zip\n",
      "File size is:    14.69 MB\n",
      "[==================================================]     44.68 Mbps[   14.69] MB downloaded, 45667.95 kbps\n",
      "Download complete...\n",
      "Time Elapsed: 0.3294958170000002 seconds\n",
      "Downloading /home/hek17/wekeo-jupyter-lab/ocean/Sentinel3/products/S3A_SR_2_WAT____20200713T152812_20200713T152836_20200713T165530_0024_060_253______MAR_O_NR_004.zip\n",
      "File size is:     3.17 MB\n",
      "[==================================================]     47.96 Mbps[    3.17] MB downloaded, 48713.61 kbps\n",
      "Download complete...\n",
      "Time Elapsed: 0.06675922199999995 seconds\n",
      "Downloading /home/hek17/wekeo-jupyter-lab/ocean/Sentinel3/products/S3A_SR_2_WAT____20200713T150837_20200713T151826_20200713T170052_0589_060_253______MAR_O_NR_004.zip\n",
      "File size is:    14.50 MB\n",
      "[==================================================]     46.38 Mbps[   14.50] MB downloaded, 47396.28 kbps\n",
      "Download complete...\n",
      "Time Elapsed: 0.31333532399999964 seconds\n"
     ]
    }
   ],
   "source": [
    "if download_data:\n",
    "    HAPI_dict = hapi.init(dataset_id, api_key, download_dir_path)\n",
    "    HAPI_dict = hapi.get_access_token(HAPI_dict)\n",
    "    HAPI_dict = hapi.acceptTandC(HAPI_dict)\n",
    "\n",
    "    # load the query\n",
    "    with open(JSON_query_file, 'r') as f:\n",
    "        query = json.load(f)\n",
    "\n",
    "    # launch job\n",
    "    print('Launching job...')\n",
    "    HAPI_dict = hapi.get_job_id(HAPI_dict, query)\n",
    "\n",
    "    # check results\n",
    "    print('Getting results...')\n",
    "    HAPI_dict = hapi.get_results_list(HAPI_dict)\n",
    "    HAPI_dict = hapi.get_order_ids(HAPI_dict)\n",
    "\n",
    "    # download data\n",
    "    print('Downloading data...')\n",
    "    HAPI_dict = hapi.download_data(HAPI_dict, file_extension='.zip')"
   ]
  },
  {
   "cell_type": "code",
   "execution_count": 20,
   "metadata": {},
   "outputs": [
    {
     "name": "stdout",
     "output_type": "stream",
     "text": [
      "Unzipping file\n",
      "Unzipping file\n",
      "Unzipping file\n",
      "Unzipping file\n",
      "Unzipping file\n"
     ]
    }
   ],
   "source": [
    "if download_data:\n",
    "    # unzip file\n",
    "    for filename in HAPI_dict['filenames']:\n",
    "        if os.path.splitext(filename)[-1] == '.zip':\n",
    "            print('Unzipping file')\n",
    "            try:\n",
    "                with ZipFile(filename, 'r') as zipObj:\n",
    "                    # Extract all the contents of zip file in current directory\n",
    "                    zipObj.extractall(os.path.dirname(filename))\n",
    "\n",
    "                # clear up the zip file\n",
    "                os.remove(filename)\n",
    "            except:\n",
    "                print(\"Failed to unzip....\")"
   ]
  },
  {
   "cell_type": "code",
   "execution_count": null,
   "metadata": {},
   "outputs": [],
   "source": [
    "# e.g. MYPATH = os.path.join(\"C:/\",\"Users\",\"me\",\"Desktop\")\n",
    "MYPATH = \"<please insert your path from Data_Path_Checker.ipynb here, removing the quotes and chevrons>\""
   ]
  },
  {
   "cell_type": "markdown",
   "metadata": {},
   "source": [
    "We will start by plotting Jason-3 data. Jason-3 is a conventional altimeter, by which we mean that it operates in LRM (Low Resolution Mode). It will give us a classical, \"Brown\" waveform (over the ocean)."
   ]
  },
  {
   "cell_type": "code",
   "execution_count": null,
   "metadata": {},
   "outputs": [],
   "source": [
    "#try and look for waveforms at different indexes (first index is the array at 1Hz, second is the index within the 20Hz array)\n",
    "#most of the track used is over calm seas (except around 55°S)\n",
    "input_root = os.path.join(MYPATH,'Jason_test_data')\n",
    "input_path = ''\n",
    "input_file = 'JA3_GPS_2PdP050_126_20170622_042327_20170622_051940.nc'\n",
    "my_file    = os.path.join(input_root,input_path,input_file)\n",
    "nc = xr.open_dataset(my_file)\n",
    "\n",
    "lat_20 = nc.variables['lat_20hz'][:]\n",
    "lon_20 = nc.variables['lon_20hz'][:]\n",
    "swh_ku = nc.variables['swh_ku'][:]\n",
    "wvf_ind= nc.variables['wvf_ind'][:]\n",
    "waveforms_20hz_ku = nc.variables['waveforms_20hz_ku'][:]\n",
    "nc.close()\n",
    "\n",
    "fig = plt.figure(figsize=(10, 4), dpi=300)\n",
    "plt.plot(wvf_ind, waveforms_20hz_ku[1000,10,:])\n",
    "plt.xlabel('Time', fontsize=16)\n",
    "plt.ylabel('Amplitude [count]',  fontsize=16)\n",
    "plt.show()"
   ]
  },
  {
   "cell_type": "markdown",
   "metadata": {},
   "source": [
    "For details on what information different parts of the waveform give us, please read: \n",
    "    http://www.altimetry.info/radar-altimetry-tutorial/how-altimetry-works/from-radar-pulse-to-altimetry-measurements/5-1-2-3-altimetric-measurements-over-the-ocean/"
   ]
  },
  {
   "cell_type": "markdown",
   "metadata": {},
   "source": [
    "Now we will make a similar plot for Sentinel-3, SRAL.\n",
    "\n",
    "SRAL operates in Delay-Doppler (SAR) mode, and therefore the waveform over the ocean will be \"peakier\" than the conventional LRM one over ocean. However, it also provides a PLRM (pseudo-LRM) product, which uses SAR mode to recreate LRM data (and will look more similar in shape to waveforms from other sensors like Jason-3). We will also plot this for comparison."
   ]
  },
  {
   "cell_type": "code",
   "execution_count": null,
   "metadata": {},
   "outputs": [],
   "source": [
    "input_root = os.path.join(MYPATH,'SRAL_test_data')\n",
    "input_path = 'S3A_SR_2_WAT____20170809T144623_20170809T153306_20170904T084235_2802_021_025______MAR_O_NT_002.SEN3'\n",
    "input_file = 'enhanced_measurement.nc'\n",
    "my_file    = os.path.join(input_root,input_path,input_file)\n",
    "nc = xr.open_dataset(my_file)\n",
    "\n",
    "echo_sample_ind = nc.variables['echo_sample_ind'][:]\n",
    "waveform_20_ku = nc.variables['waveform_20_ku'][:]\n",
    "waveform_20_plrm_ku = nc.variables['waveform_20_plrm_ku'][:]\n",
    "nc.close()\n",
    "\n",
    "fig = plt.figure(figsize=(10, 4), dpi=300)\n",
    "ax = plt.subplot(1,1,1)\n",
    "p1, = ax.plot(echo_sample_ind, waveform_20_ku[3000,:], label='SAR mode')\n",
    "p2, = ax.plot(echo_sample_ind, waveform_20_plrm_ku[3000,:],'r', label='PLRM mode')\n",
    "plt.xlabel('Time', fontsize=16)\n",
    "plt.ylabel('Amplitude [count]',  fontsize=16)\n",
    "\n",
    "handles, labels = ax.get_legend_handles_labels()\n",
    "plt.legend(handles, labels)\n",
    "plt.savefig('SRAL_waveforms')\n",
    "plt.show()"
   ]
  },
  {
   "cell_type": "markdown",
   "metadata": {},
   "source": [
    "### SWH and waveform shapes ###\n",
    "\n",
    "Lets look at a real-world example of how waveform shape effects one of our key geophysical parameters, significant wave height. Storms crosses the North Atlantic late 2017 / beginning 2018 (as every winter). Lets visualize waveforms inside and outside the storm (presumed to be high and low waves) for SRAL."
   ]
  },
  {
   "cell_type": "code",
   "execution_count": null,
   "metadata": {},
   "outputs": [],
   "source": [
    "input_root = os.path.join(MYPATH,'SRAL_test_data')\n",
    "input_path = 'S3A_SR_2_WAT____20180115T223136_20180115T224108_20180115T235013_0572_026_372______MAR_O_NR_003.SEN3'\n",
    "input_file = 'enhanced_measurement.nc'\n",
    "my_file    = os.path.join(input_root,input_path,input_file)\n",
    "nc = xr.open_dataset(my_file)\n",
    "\n",
    "# read the variables\n",
    "echo_sample_ind = nc.variables['echo_sample_ind'][:]\n",
    "waveform_20_ku = nc.variables['waveform_20_ku'][:]\n",
    "swh_ocean_20_ku = nc.variables['swh_ocean_20_ku'][:]\n",
    "nc.close()\n",
    "\n",
    "# find the 2% and 98% values of SWH\n",
    "low_percentage = 2\n",
    "high_percentage = 100 - low_percentage\n",
    "\n",
    "SWH_bot = np.percentile(swh_ocean_20_ku[np.isfinite(swh_ocean_20_ku)], low_percentage)\n",
    "SWH_top = np.percentile(swh_ocean_20_ku[np.isfinite(swh_ocean_20_ku)], high_percentage)\n",
    "\n",
    "print(str(low_percentage)+'% SWH Ku for the track', SWH_bot)\n",
    "print(str(high_percentage)+'% SWH Ku for the track', SWH_top)\n",
    "\n",
    "lowwaves = np.where( swh_ocean_20_ku <= SWH_bot )[0]\n",
    "highwaves = np.where( swh_ocean_20_ku >= SWH_top )[0]\n",
    "\n",
    "lowwaves_index=np.asarray(lowwaves).astype(int)\n",
    "highwaves_index=np.asarray(highwaves).astype(int)\n",
    "\n",
    "wvf_low = np.nanmean(waveform_20_ku[lowwaves_index][:], axis = 0)\n",
    "wvf_high = np.nanmean(waveform_20_ku[highwaves_index][:], axis = 0)\n",
    "\n",
    "fig = plt.figure(figsize=(10, 4), dpi=300)\n",
    "ax = plt.subplot(1,1,1)\n",
    "ax.plot(echo_sample_ind,wvf_high,'r', alpha=0.5)\n",
    "ax.plot(echo_sample_ind,wvf_low,'b', alpha=0.5)\n",
    "\n",
    "plt.xlabel('Time', fontsize=16)\n",
    "plt.ylabel('Amplitude [count]',  fontsize=16)\n",
    "\n",
    "red_line = mlines.Line2D([], [], color='red', label='Average high waves')\n",
    "blue_line = mlines.Line2D([], [], color='blue', label='Average low waves')\n",
    "\n",
    "plt.legend(handles=[red_line, blue_line])\n",
    "plt.savefig('SRAL_waveforms_storm')\n",
    "plt.show()"
   ]
  },
  {
   "cell_type": "markdown",
   "metadata": {},
   "source": [
    "The significant wave height is obtained by analyzing the shape and intensity of the altimeter radar beam reflected from the sea surface (radar echo). A long time delay in the return signal indicates that waves are high and, conversely, a short delay indicates that the sea surface is calm."
   ]
  },
  {
   "cell_type": "markdown",
   "metadata": {},
   "source": [
    "<img src='./img/all_partners_wekeo.png' alt='' align='center' width='75%'></img>"
   ]
  },
  {
   "cell_type": "markdown",
   "metadata": {},
   "source": [
    "<p style=\"text-align:left;\">This project is licensed under the <a href=\"./LICENSE\">MIT License</a> <span style=\"float:right;\"><a href=\"https://github.com/wekeo/wekeo-jupyter-lab\">View on GitHub</a> | <a href=\"https://www.wekeo.eu/\">WEkEO Website</a> | <a href=mailto:support@wekeo.eu>Contact</a></span></p>"
   ]
  }
 ],
 "metadata": {
  "kernelspec": {
   "display_name": "Python 3",
   "language": "python",
   "name": "python3"
  },
  "language_info": {
   "codemirror_mode": {
    "name": "ipython",
    "version": 3
   },
   "file_extension": ".py",
   "mimetype": "text/x-python",
   "name": "python",
   "nbconvert_exporter": "python",
   "pygments_lexer": "ipython3",
   "version": "3.7.0"
  }
 },
 "nbformat": 4,
 "nbformat_minor": 4
}
