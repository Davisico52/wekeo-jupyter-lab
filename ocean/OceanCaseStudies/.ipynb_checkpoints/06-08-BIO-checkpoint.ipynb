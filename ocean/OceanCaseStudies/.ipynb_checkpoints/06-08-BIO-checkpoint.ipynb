{
 "cells": [
  {
   "cell_type": "markdown",
   "metadata": {},
   "source": [
    "<img src='./img/LogoWekeo_Copernicus_RGB_0.png' alt='' align='centre' width='30%'></img>"
   ]
  },
  {
   "cell_type": "markdown",
   "metadata": {},
   "source": [
    "***"
   ]
  },
  {
   "cell_type": "markdown",
   "metadata": {},
   "source": [
    "# COPERNICUS MARINE BIO MEDITERRANEAN SEA TRAINING\n",
    "\n",
    "<div style=\"text-align: right\"><i> 07-03-BIO </i></div>\n",
    "\n",
    "\n",
    "    License: This code is offered as open source and free-to-use in the public domain, \n",
    "             with no warranty, under the MIT license associated with this code repository.\n",
    "\n",
    "***\n",
    "\n",
    "<center><h1> Time evolution of nutrients, chlorophyll, oxygen and CO2 in the Mediterranean Sea </h1></center>"
   ]
  },
  {
   "cell_type": "markdown",
   "metadata": {},
   "source": [
    "\n",
    "***\n",
    "**General Note 1**: Execute each cell through the <button class=\"btn btn-default btn-xs\"><i class=\"icon-play fa fa-play\"></i></button> button from the top MENU (or keyboard shortcut `Shift` + `Enter`).<br>\n",
    "<br>\n",
    "**General Note 2**: If, for any reason, the kernel is not working anymore, in the top MENU, click on the <button class=\"btn btn-default btn-xs\"><i class=\"fa fa-repeat icon-repeat\"></i></button> button. Then, in the top MENU, click on \"Cell\" and select \"Run All Above Selected Cell\".<br>"
   ]
  },
  {
   "cell_type": "markdown",
   "metadata": {},
   "source": [
    "***\n",
    "# Table of contents\n",
    "- [1. Introduction](#1.-Introduction)\n",
    "- [2. About the data](#2.-About-the-data)\n",
    "- [3. Required Python modules](#3.-Required-Python-modules)\n",
    "- [4. Download data with HDA](#4.-Download-data-with-HDA)\n",
    "- [5. Exercise: Time serie](#5.-Exercise-n.4:-Time-serie)\n",
    "- [6. Conclusion](#6.-Conclusion)\n",
    "***"
   ]
  },
  {
   "cell_type": "markdown",
   "metadata": {},
   "source": [
    "# 1. Introduction"
   ]
  },
  {
   "cell_type": "markdown",
   "metadata": {},
   "source": [
    "[Go back to the \"Table of contents\"](#Table-of-contents)"
   ]
  },
  {
   "cell_type": "markdown",
   "metadata": {},
   "source": [
    "The objective of this exercise is to use the Copernicus Marine (CMEMS) BIOgeochemical products to visualize some typical coastal biogeochemical features in the Black Sea.\n",
    "\n",
    "In particular, we will display:\n",
    "- time evolution of the partial pressure of CO2 and CO2 air-to-sea exchanges\n",
    "\n",
    "We will use the near-real time (NRT) products as they already use the latest CMEMS name conventions. After July 2020, the multi-year (MY) product will also use the same conventions.\n",
    "***"
   ]
  },
  {
   "cell_type": "markdown",
   "metadata": {},
   "source": [
    "# 2. About the data"
   ]
  },
  {
   "cell_type": "markdown",
   "metadata": {},
   "source": [
    "[Go back to the \"Table of contents\"](#Table-of-contents)"
   ]
  },
  {
   "cell_type": "markdown",
   "metadata": {},
   "source": [
    "## Model description\n",
    "\n",
    "### This example is based on the product: [MEDSEA_REANALYSIS_BIO_006_008](https://moi.wekeo.eu/data?view=dataset&dataset=EO%3AMO%3ADAT%3AMEDSEA_REANALYSIS_BIO_006_008)"
   ]
  },
  {
   "cell_type": "markdown",
   "metadata": {},
   "source": [
    "**MEDSEA_REANALYSIS_BIO_006_008** is  reanalysis of Mediterranean Sea biogeochemistry at 1/16 degree, using the OGSTM-BFM biogeochemical model and data assimilation of surface chlorophyll concentration. OGSTM-BFM was driven by physical forcing fields produced as output by the Med-Currents model. The ESA-CCI database of surface chlorophyll concentration estimated by satellite and delivered within CMEMS-OCTAC was used for data assimilation. This reanalysis provides monthly means of 3D fields of chlorophyll, nutrients (phosphate and nitrate) and dissolved oxygen concentrations, net primary production, phytoplankton biomass, ocean pH and ocean pCO2.\n",
    "* Product Citation: Please refer to our Technical FAQ for citing products.http://marine.copernicus.eu/faq/cite-cmems-products-cmems-credit/?idpage=169\n",
    " * ''DOI (Product)'': https://doi.org/10.25423/MEDSEA_REANALYSIS_BIO_006_008\n",
    " * ''Citation'': Teruzzi A., Cossarini G., Lazzari P., Salon S., Bolzon G., Crise A., Solidoro C. (2016). “Mediterranean Sea biogeochemical reanalysis (CMEMS MED REA-Biogeochemistry 1999-2015)”. [Data set]. Copernicus Monitoring Environment Marine Service. DOI: https://doi.org/10.25423\n",
    "\n",
    "<img src=\"https://wekeo-broker.apps.mercator.dpi.wekeo.eu/previews/EO_MO_DAT_MEDSEA_REANALYSIS_BIO_006_008_sv03-med-ogs-pft-rean-m.png\">"
   ]
  },
  {
   "cell_type": "markdown",
   "metadata": {},
   "source": [
    "## Get more info on the product\n",
    "You can find more info on this product and access to the download services in the [products viewer on Wekeo](https://moi.wekeo.eu/data?view=dataset&dataset=EO%3AMO%3ADAT%3AMEDSEA_REANALYSIS_BIO_006_008).\n",
    "<br><br>"
   ]
  },
  {
   "cell_type": "markdown",
   "metadata": {},
   "source": [
    "## Parameters used for downloading the data\n",
    "| Parameter | Value |\n",
    "| :---: | :---|\n",
    "| **Product** | MEDSEA_REANALYSIS_BIO_006_008 |\n",
    "| **Datasets** | <ul><li>sv03-med-ogs-car-rean-m</li>\n",
    "| **Frequency** | monthly |\n",
    "| **Lat min** | 42 |\n",
    "| **Lat max** | 44 |\n",
    "| **Lon min** | 2.5 |\n",
    "| **Lon max** | 6.5 |\n",
    "| **Timesteps** | from 2010-01-01 to 2015-12-21 |\n",
    "| **Service for downloading** | HDA (SUBS) |\n",
    "| **Files total dimension** | ~43 MB |"
   ]
  },
  {
   "cell_type": "markdown",
   "metadata": {},
   "source": [
    "<div class=\"alert alert-block alert-warning\">\n",
    "    <b>Get the WEkEO User credentials</b>\n",
    "<hr>\n",
    "If you want to download the data to use this notebook, you will need WEkEO User credentials. If you do not have these, you can register <a href=\"https://www.wekeo.eu/web/guest/user-registration\" target=\"_blank\">here</a>."
   ]
  },
  {
   "cell_type": "markdown",
   "metadata": {},
   "source": [
    "***"
   ]
  },
  {
   "cell_type": "markdown",
   "metadata": {},
   "source": [
    "# 3. Required Python modules"
   ]
  },
  {
   "cell_type": "markdown",
   "metadata": {},
   "source": [
    "[Go back to the \"Table of contents\"](#Table-of-contents)"
   ]
  },
  {
   "cell_type": "markdown",
   "metadata": {},
   "source": [
    "Here you can find the Python modules imported for running the notebook's code. They are quite common modules adopted for handling the scientific data."
   ]
  },
  {
   "cell_type": "markdown",
   "metadata": {},
   "source": [
    "| Module name | Description |\n",
    "| :---: | :---|\n",
    "| **os** | [ Miscellaneous operating system interfaces](https://docs.python.org/3.7/library/os.html) for managing paths, creating directories,... |\n",
    "| **numpy** | [NumPy](https://numpy.org/) is the fundamental package for scientific computing with Python and for managing ND-arrays |\n",
    "| **xarray** | [Xarray](http://xarray.pydata.org/en/stable/) introduces labels in the form of dimensions, coordinates and attributes on top of raw NumPy-like arrays, which allows for a more intuitive, more concise, and less error-prone developer experience. |\n",
    "| **matplotlib** |[Matplotlib](https://matplotlib.org/) is a Python 2D plotting library which produces publication quality figures |"
   ]
  },
  {
   "cell_type": "markdown",
   "metadata": {},
   "source": [
    "### Code cells allow you to enter and run Python code \n",
    "Run a code cell using <code>Shift-Enter</code> or pressing the <button class=\"btn btn-default btn-xs\"><i class=\"icon-play fa fa-play\"></i></button> button in the toolbar above:"
   ]
  },
  {
   "cell_type": "markdown",
   "metadata": {},
   "source": [
    "## Import the modules"
   ]
  },
  {
   "cell_type": "markdown",
   "metadata": {},
   "source": [
    "For avoiding the warning messages during the execution and installation process, at first remove them:"
   ]
  },
  {
   "cell_type": "code",
   "execution_count": 3,
   "metadata": {},
   "outputs": [],
   "source": [
    "import warnings\n",
    "warnings.filterwarnings('ignore')"
   ]
  },
  {
   "cell_type": "code",
   "execution_count": 4,
   "metadata": {},
   "outputs": [],
   "source": [
    "import os\n",
    "import sys\n",
    "import numpy as np\n",
    "import xarray as xr\n",
    "import matplotlib.pyplot as plt"
   ]
  },
  {
   "cell_type": "markdown",
   "metadata": {},
   "source": [
    "If you don't have the right module, please install it with the command:\n",
    "```\n",
    "conda install module_name\n",
    "```\n",
    "and then re-try to execute the cell for importing it. **Please install the modules one by one**."
   ]
  },
  {
   "cell_type": "markdown",
   "metadata": {},
   "source": [
    "***"
   ]
  },
  {
   "cell_type": "markdown",
   "metadata": {},
   "source": [
    "# 4. Download data with HDA"
   ]
  },
  {
   "cell_type": "code",
   "execution_count": 5,
   "metadata": {},
   "outputs": [],
   "source": [
    "# HDA API tools\n",
    "sys.path.append(os.path.join(os.path.dirname(os.path.dirname(os.getcwd())),'wekeo-hda'))\n",
    "import hda_api_functions as hapi # this is the PYTHON version\n",
    "        "
   ]
  },
  {
   "cell_type": "markdown",
   "metadata": {},
   "source": [
    "WEkEO provides access to a huge number of datasets through its **'harmonised-data-access'** API. This allows us to query the full data catalogue and download data quickly and directly onto the Jupyter Lab. You can search for what data is available <a href=\"https://wekeo.eu/data?view=catalogue\">here</a>\n",
    "\n",
    "In order to use the HDA-API we need to provide some authentication credentials, which comes in the form of an API key and API token. In this notebook we have provided functions so you can retrieve the API key and token you need directly. You can find out more about this process in the notebook on HDA access (wekeo_harmonized_data_access_api.ipynb) that can be found in the **wekeo-hda** folder on your Jupyterlab."
   ]
  },
  {
   "cell_type": "code",
   "execution_count": 6,
   "metadata": {},
   "outputs": [
    {
     "name": "stdout",
     "output_type": "stream",
     "text": [
      "Your API key is: aGVrMTc6Q2FkYnVyeTE3IQ==\n"
     ]
    }
   ],
   "source": [
    "# your WEkEO API username and password (needs to be in '  ')\n",
    "user_name = 'USERNAME'\n",
    "password = 'PASSWORD'\n",
    "\n",
    "# Generate an API key\n",
    "api_key = hapi.generate_api_key(user_name, password)\n",
    "print('Your API key is: '+api_key)"
   ]
  },
  {
   "cell_type": "code",
   "execution_count": 7,
   "metadata": {},
   "outputs": [],
   "source": [
    "# where the data should be downloaded to:\n",
    "download_dir_path = os.path.join(os.getcwd(),'products', '06-08')\n",
    "\n",
    "# make the output directory if required\n",
    "if not os.path.exists(download_dir_path):\n",
    "    os.makedirs(download_dir_path)"
   ]
  },
  {
   "cell_type": "markdown",
   "metadata": {},
   "source": [
    "Now we are ready to get our data."
   ]
  },
  {
   "cell_type": "code",
   "execution_count": 8,
   "metadata": {},
   "outputs": [],
   "source": [
    "dataset_id = \"EO:MO:DAT:MEDSEA_REANALYSIS_BIO_006_008\""
   ]
  },
  {
   "cell_type": "markdown",
   "metadata": {},
   "source": [
    "We provide here the parameters of the requests as described in previous section. You can prepare this request thanks to the data access feature of WEkEO data viewer."
   ]
  },
  {
   "cell_type": "code",
   "execution_count": 9,
   "metadata": {},
   "outputs": [],
   "source": [
    "query = {\n",
    "  \"datasetId\": \"EO:MO:DAT:MEDSEA_REANALYSIS_BIO_006_008:sv03-med-ogs-car-rean-m\",\n",
    "  \"boundingBoxValues\": [\n",
    "    {\n",
    "      \"name\": \"bbox\",\n",
    "      \"bbox\": [\n",
    "        2.5,\n",
    "        42,\n",
    "        6.5,\n",
    "        44\n",
    "      ]\n",
    "    }\n",
    "  ],\n",
    "  \"dateRangeSelectValues\": [\n",
    "    {\n",
    "      \"name\": \"position\",\n",
    "      \"start\": \"2010-01-01T00:00:00.000Z\",\n",
    "      \"end\": \"2015-12-31T23:30:00.000Z\"\n",
    "    }\n",
    "  ],\n",
    "  \"multiStringSelectValues\": [\n",
    "    {\n",
    "      \"name\": \"variable\",\n",
    "      \"value\": [\n",
    "        \"pco\"\n",
    "      ]\n",
    "    }\n",
    "  ],\n",
    "  \"stringChoiceValues\": [\n",
    "    {\n",
    "      \"name\": \"service\",\n",
    "      \"value\": \"MEDSEA_REANALYSIS_BIO_006_008-TDS\"\n",
    "    },\n",
    "    {\n",
    "      \"name\": \"product\",\n",
    "      \"value\": \"sv03-med-ogs-car-rean-m\"\n",
    "    },\n",
    "    {\n",
    "      \"name\": \"startDepth\",\n",
    "      \"value\": \"1.4721\"\n",
    "    },\n",
    "    {\n",
    "      \"name\": \"endDepth\",\n",
    "      \"value\": \"5334.64795\"\n",
    "    }\n",
    "  ]\n",
    "}"
   ]
  },
  {
   "cell_type": "markdown",
   "metadata": {},
   "source": [
    "Now we have a query, we need to launch it to WEkEO to get our data. The box below takes care of this through the following steps:\n",
    "\n",
    "    1. initialise our HDA-API\n",
    "    2. get an access token for our data\n",
    "    3. accepts the WEkEO terms and conditions\n",
    "    4. loads our JSON query into memory\n",
    "    5. launches our search\n",
    "    6. waits for our search results\n",
    "    7. gets our result list\n",
    "    8. downloads our data\n",
    "\n",
    "This is quite a complex process, so much of the functionality has been buried 'behind the scenes'. If you want more information, you can check out the <a href=\"./wekeo-hda\">Harmonised Data Access API </a></span> tutorials. The code below will report some information as it runs. At the end, it should tell you that one product has been downloaded."
   ]
  },
  {
   "cell_type": "code",
   "execution_count": 10,
   "metadata": {},
   "outputs": [
    {
     "name": "stdout",
     "output_type": "stream",
     "text": [
      "Getting an access token. This token is valid for one hour only.\n",
      "Success: Access token is 46582385-293d-34d3-82cd-0bc376127643\n",
      "Copernicus_General_License Terms and Conditions already accepted\n",
      "Launching job...\n",
      "Query successfully submitted. Job ID is PpVWSySJwQfF9TpskzjqMluvFjg\n",
      "Query successfully submitted. Status is running\n",
      "Query successfully submitted. Status is running\n",
      "Query successfully submitted. Status is running\n",
      "Query successfully submitted. Status is running\n",
      "Query successfully submitted. Status is running\n",
      "Query successfully submitted. Status is running\n",
      "Query successfully submitted. Status is running\n",
      "Query successfully submitted. Status is running\n",
      "Query successfully submitted. Status is completed\n"
     ]
    }
   ],
   "source": [
    "HAPI_dict = hapi.init(dataset_id, api_key, download_dir_path)\n",
    "HAPI_dict = hapi.get_access_token(HAPI_dict)\n",
    "HAPI_dict = hapi.acceptTandC(HAPI_dict)\n",
    "\n",
    "# launch job\n",
    "print('Launching job...')\n",
    "HAPI_dict = hapi.get_job_id(HAPI_dict, query)"
   ]
  },
  {
   "cell_type": "code",
   "execution_count": 11,
   "metadata": {},
   "outputs": [
    {
     "name": "stdout",
     "output_type": "stream",
     "text": [
      "Getting results...\n",
      "************** Results *******************************\n",
      "{\n",
      "    \"content\": [\n",
      "        {\n",
      "            \"downloadUri\": null,\n",
      "            \"filename\": \"&service=MEDSEA_REANALYSIS_BIO_006_008-TDS&product=sv03-med-ogs-car-rean-m&z_lo=1.4721&z_hi=5334.64795&t_lo=2010-01-01T00:00:00.000Z&t_hi=2015-12-31T23:30:00.000Z&x_lo=2.5&y_hi=42&x_hi=6.5&y_lo=44&variable=pco\",\n",
      "            \"order\": null,\n",
      "            \"productInfo\": {\n",
      "                \"datasetId\": \"EO:MO:DAT:MEDSEA_REANALYSIS_BIO_006_008:sv03-med-ogs-car-rean-m\",\n",
      "                \"product\": \"sv03-med-ogs-car-rean-m:99d983fe373a54ded5456d0cca2c6743\",\n",
      "                \"productEndDate\": \"2015-12-31T23:30:00Z\",\n",
      "                \"productStartDate\": \"2010-01-01T00:00:00Z\"\n",
      "            },\n",
      "            \"size\": 44478720,\n",
      "            \"url\": \"&service=MEDSEA_REANALYSIS_BIO_006_008-TDS&product=sv03-med-ogs-car-rean-m&z_lo=1.4721&z_hi=5334.64795&t_lo=2010-01-01T00:00:00.000Z&t_hi=2015-12-31T23:30:00.000Z&x_lo=2.5&y_hi=42&x_hi=6.5&y_lo=44&variable=pco\"\n",
      "        }\n",
      "    ],\n",
      "    \"itemsInPage\": 1,\n",
      "    \"nextPage\": null,\n",
      "    \"page\": 0,\n",
      "    \"pages\": 1,\n",
      "    \"previousPage\": null,\n",
      "    \"totItems\": 1\n",
      "}\n",
      "*******************************************\n",
      "Query successfully submitted. Order ID is lop9qDrz69a3zsVN7mVOJyxZZP0\n",
      "Query successfully submitted. Status is completed\n"
     ]
    }
   ],
   "source": [
    "#check results\n",
    "print('Getting results...')\n",
    "HAPI_dict = hapi.get_results_list(HAPI_dict)\n",
    "HAPI_dict = hapi.get_order_ids(HAPI_dict)"
   ]
  },
  {
   "cell_type": "code",
   "execution_count": 16,
   "metadata": {},
   "outputs": [
    {
     "name": "stdout",
     "output_type": "stream",
     "text": [
      "Downloading data...\n",
      "Downloading /home/hek17/wekeo-jupyter-lab/ocean/OceanCaseStudies/products/06-08/&service=MEDSEA_REANALYSIS_BIO_006_008-TDS&product=sv03-med-ogs-car-rean-m&z_lo=1.4721&z_hi=5334.64795&t_lo=2010-01-01T00:00:00.000Z&t_hi=2015-12-31T23:30:00.000Z&x_lo=2.5&y_hi=42&x_hi=6.5&y_lo=44&variable=pco\n",
      "File size is:    42.42 MB\n",
      "[==================================================]     52.72 Mbps[   42.42] MB downloaded, 53913.99 kbps\n",
      "Download complete...\n",
      "Time Elapsed: 0.8057778729999998 seconds\n"
     ]
    }
   ],
   "source": [
    "# download data\n",
    "print('Downloading data...')\n",
    "HAPI_dict = hapi.download_data(HAPI_dict),user_filename='co2_f')"
   ]
  },
  {
   "cell_type": "markdown",
   "metadata": {},
   "source": [
    "***"
   ]
  },
  {
   "cell_type": "markdown",
   "metadata": {},
   "source": [
    "# 5. Exercise: Time serie"
   ]
  },
  {
   "cell_type": "markdown",
   "metadata": {},
   "source": [
    "[Go back to the \"Table of contents\"](#Table-of-contents)"
   ]
  },
  {
   "cell_type": "markdown",
   "metadata": {},
   "source": [
    "### In this exercise, we will look at the temporal evolution of the CO2 flux at the air-sea interface and at depth\n",
    "\n",
    "For this exercise we will use a 3D dataset: sv03-med-ogs-car-rean-m \n",
    "It consists of one  variables: values of CO2 at different depth levels\n",
    "\n",
    "CMEMS provides the partial pressure of carbon dioxide in seawater, expressed in Pascal [Pa]. However, pCO2 is usually reported in [μatm]: the conversion is 1 μatm equals to 101.325 kPa.\n",
    "The current level of atmosphere partial pressure of CO2 is 407 ppm which equals to 41.2 Pa.\n",
    "\n",
    "Attention must be paid to unit conversion.\n",
    "\n",
    "\n",
    "The figure shows that the marine environment acts as a sink of the atmospheric CO2 during winter and as a source during summer following the opposite cycle of solubility. The presence of peaks of CO2 flux is related to the effect of wind on the air-sea interface transport: a cold and windy day can contribute much to the annual budget."
   ]
  },
  {
   "cell_type": "markdown",
   "metadata": {},
   "source": [
    "## Parameters used for downloading the data\n",
    "| Parameter | Value |\n",
    "| :---: | :---|\n",
    "| **Product** | MEDSEA_REANALYSIS_BIO_006_008 |\n",
    "| **Datasets** | <ul><li>sv03-med-ogs-car-rean-m</li>\n",
    "| **Frequency** | monthly |\n",
    "| **Lat min** | 42 |\n",
    "| **Lat max** | 44 |\n",
    "| **Lon min** | 2.5 |\n",
    "| **Lon max** | 6.5 |\n",
    "| **Timesteps** | from 2010-01-01 to 2015-12-21 |\n",
    "| **Service for downloading** | HDA (SUBS) |\n",
    "| **Files total dimension** | ~43 MB |"
   ]
  },
  {
   "cell_type": "markdown",
   "metadata": {},
   "source": [
    "## 5.1. Access the data"
   ]
  },
  {
   "cell_type": "code",
   "execution_count": 17,
   "metadata": {},
   "outputs": [],
   "source": [
    "# Input netcdf file\n",
    "# \n",
    "#co2_f = \"bs-ulg-co2-an-fc-m_1588235316133.nc\"\n",
    "\n",
    "# Build the complete nc path\n",
    "co2_nc = os.path.join(download_dir_path, 'co2_f')\n",
    "\n",
    "# Open the nc dataset\n",
    "co2_ds = xr.open_dataset(co2_nc)"
   ]
  },
  {
   "cell_type": "code",
   "execution_count": 18,
   "metadata": {},
   "outputs": [
    {
     "data": {
      "text/html": [
       "<pre>&lt;xarray.DataArray &#x27;pco&#x27; (time: 72, depth: 72, latitude: 33, longitude: 65)&gt;\n",
       "[11119680 values with dtype=float32]\n",
       "Coordinates:\n",
       "  * depth      (depth) float32 1.4721018 4.587478 ... 5006.8184 5334.648\n",
       "  * latitude   (latitude) float32 42.0 42.0625 42.125 ... 43.875 43.9375 44.0\n",
       "  * time       (time) datetime64[ns] 2010-01-01 2010-02-01 ... 2015-12-01\n",
       "  * longitude  (longitude) float32 2.5 2.5625 2.625 2.6875 ... 6.375 6.4375 6.5\n",
       "Attributes:\n",
       "    units:          Pa\n",
       "    long_name:      ocean_pco2_expresses_as_carbon_dioxide_partial_pressure\n",
       "    standard_name:  surface_partial_pressure_of_carbon_dioxide_in_sea_water\n",
       "    _ChunkSizes:    [  1  36 127 335]</pre>"
      ],
      "text/plain": [
       "<xarray.DataArray 'pco' (time: 72, depth: 72, latitude: 33, longitude: 65)>\n",
       "[11119680 values with dtype=float32]\n",
       "Coordinates:\n",
       "  * depth      (depth) float32 1.4721018 4.587478 ... 5006.8184 5334.648\n",
       "  * latitude   (latitude) float32 42.0 42.0625 42.125 ... 43.875 43.9375 44.0\n",
       "  * time       (time) datetime64[ns] 2010-01-01 2010-02-01 ... 2015-12-01\n",
       "  * longitude  (longitude) float32 2.5 2.5625 2.625 2.6875 ... 6.375 6.4375 6.5\n",
       "Attributes:\n",
       "    units:          Pa\n",
       "    long_name:      ocean_pco2_expresses_as_carbon_dioxide_partial_pressure\n",
       "    standard_name:  surface_partial_pressure_of_carbon_dioxide_in_sea_water\n",
       "    _ChunkSizes:    [  1  36 127 335]"
      ]
     },
     "execution_count": 18,
     "metadata": {},
     "output_type": "execute_result"
    }
   ],
   "source": [
    "co2_ds.data_vars\n",
    "co2_ds.pco"
   ]
  },
  {
   "cell_type": "code",
   "execution_count": 19,
   "metadata": {},
   "outputs": [],
   "source": [
    "# Set the coordinate names (used later for accessing the data)\n",
    "lon_name = \"longitude\"\n",
    "lat_name = \"latitude\"\n",
    "time_name = \"time\"\n",
    "depth_name = \"depth\""
   ]
  },
  {
   "cell_type": "markdown",
   "metadata": {},
   "source": [
    "## 5.2. Plot the time series"
   ]
  },
  {
   "cell_type": "markdown",
   "metadata": {},
   "source": [
    "### 5.2.1. Plot the averaged time series"
   ]
  },
  {
   "cell_type": "code",
   "execution_count": 20,
   "metadata": {},
   "outputs": [],
   "source": [
    "# dataset mean\n",
    "spco2_mean = co2_ds.mean(dim=(lat_name, lon_name, depth_name), skipna=True)"
   ]
  },
  {
   "cell_type": "code",
   "execution_count": 21,
   "metadata": {},
   "outputs": [],
   "source": [
    "# Plot configuration\n",
    "width_inch = 16\n",
    "height_inch = 8\n",
    "\n",
    "title_fontstyle = {\n",
    "    \"fontsize\": \"14\",\n",
    "    \"fontstyle\": \"italic\",\n",
    "    \"fontweight\": \"bold\",\n",
    "    \"pad\": 30\n",
    "}\n",
    "\n",
    "label_fontstyle = {\n",
    "    \"fontsize\": \"12\",\n",
    "    \"labelpad\": 30\n",
    "}"
   ]
  },
  {
   "cell_type": "code",
   "execution_count": 22,
   "metadata": {},
   "outputs": [],
   "source": [
    "def checkDir(outPath):\n",
    "    if not os.path.exists(outPath):\n",
    "        os.makedirs(outPath)"
   ]
  },
  {
   "cell_type": "code",
   "execution_count": 23,
   "metadata": {},
   "outputs": [
    {
     "data": {
      "image/png": "[encoded data removed]",
      "text/plain": [
       "<Figure size 1152x576 with 1 Axes>"
      ]
     },
     "metadata": {
      "needs_background": "light"
     },
     "output_type": "display_data"
    }
   ],
   "source": [
    "fig, ax1 = plt.subplots(figsize=(width_inch, height_inch))\n",
    "\n",
    "timesteps = spco2_mean.time\n",
    "\n",
    "sig1 = spco2_mean.pco\n",
    "\n",
    "color1 = 'r'\n",
    "\n",
    "# plot time evolution of partial pressure of CO2 in surface water\n",
    "ax1.plot(timesteps, sig1, color1)\n",
    "ax1.set_ylabel('spco2', fontsize=14, color=color1)\n",
    "ax1.set_xlabel(\"Time\", fontsize=14)\n",
    "ax1.tick_params(axis='y', labelcolor=color1)\n",
    "\n",
    "title = \"spco2: partial pressure of CO2 [Pa]\"\n",
    "plt.title(title, **title_fontstyle)\n",
    "\n",
    "plt.grid()\n",
    "\n",
    "# output file\n",
    "out_path = os.path.join(os.getcwd(), 'out', '06-08')\n",
    "checkDir(out_path)\n",
    "output_file = os.path.join(out_path,title.replace(' ','_')) + \".png\"\n",
    "\n",
    "# save the output file\n",
    "plt.savefig(output_file)\n",
    "\n",
    "plt.show()\n",
    "#sig2 = co2_mean.fpco2"
   ]
  },
  {
   "cell_type": "markdown",
   "metadata": {},
   "source": [
    "## 5.2.2. Plot the time series for a  single point"
   ]
  },
  {
   "cell_type": "code",
   "execution_count": 24,
   "metadata": {
    "jupyter": {
     "source_hidden": true
    }
   },
   "outputs": [
    {
     "data": {
      "text/html": [
       "<pre>&lt;xarray.DataArray &#x27;pco&#x27; (time: 72)&gt;\n",
       "array([334.77316, 326.32288, 320.6035 , 300.02255, 322.27878, 368.70993,\n",
       "       432.27747, 446.2552 , 412.55585, 386.64395, 359.33597, 343.7432 ,\n",
       "       322.33118, 314.88065, 321.14127, 330.59137, 377.96298, 406.3485 ,\n",
       "       428.08646, 445.41306, 439.53827, 382.29337, 377.712  , 352.7306 ,\n",
       "       337.99408, 339.19394, 313.28247, 324.2878 , 368.7394 , 429.6545 ,\n",
       "       454.40472, 477.83643, 413.75656, 401.69818, 359.23557, 345.45856,\n",
       "       335.73755, 332.93585, 331.24423, 309.94937, 351.6082 , 400.58215,\n",
       "       445.0282 , 465.62296, 425.36066, 401.6676 , 367.5553 , 350.2272 ,\n",
       "       339.7727 , 312.93692, 314.93005, 310.7845 , 340.09555, 403.86496,\n",
       "       443.88562, 459.81967, 439.08328, 433.82574, 385.65775, 363.06012,\n",
       "       345.03867, 339.51956, 318.46045, 361.31314, 351.3245 , 408.25333,\n",
       "       474.89438, 476.70996, 417.9812 , 392.11093, 373.39435, 360.46643],\n",
       "      dtype=float32)\n",
       "Coordinates:\n",
       "    depth      float32 1.4721018\n",
       "    latitude   float32 43.0\n",
       "  * time       (time) datetime64[ns] 2010-01-01 2010-02-01 ... 2015-12-01\n",
       "    longitude  float32 4.5\n",
       "Attributes:\n",
       "    units:          Pa\n",
       "    long_name:      ocean_pco2_expresses_as_carbon_dioxide_partial_pressure\n",
       "    standard_name:  surface_partial_pressure_of_carbon_dioxide_in_sea_water\n",
       "    _ChunkSizes:    [  1  36 127 335]</pre>"
      ],
      "text/plain": [
       "<xarray.DataArray 'pco' (time: 72)>\n",
       "array([334.77316, 326.32288, 320.6035 , 300.02255, 322.27878, 368.70993,\n",
       "       432.27747, 446.2552 , 412.55585, 386.64395, 359.33597, 343.7432 ,\n",
       "       322.33118, 314.88065, 321.14127, 330.59137, 377.96298, 406.3485 ,\n",
       "       428.08646, 445.41306, 439.53827, 382.29337, 377.712  , 352.7306 ,\n",
       "       337.99408, 339.19394, 313.28247, 324.2878 , 368.7394 , 429.6545 ,\n",
       "       454.40472, 477.83643, 413.75656, 401.69818, 359.23557, 345.45856,\n",
       "       335.73755, 332.93585, 331.24423, 309.94937, 351.6082 , 400.58215,\n",
       "       445.0282 , 465.62296, 425.36066, 401.6676 , 367.5553 , 350.2272 ,\n",
       "       339.7727 , 312.93692, 314.93005, 310.7845 , 340.09555, 403.86496,\n",
       "       443.88562, 459.81967, 439.08328, 433.82574, 385.65775, 363.06012,\n",
       "       345.03867, 339.51956, 318.46045, 361.31314, 351.3245 , 408.25333,\n",
       "       474.89438, 476.70996, 417.9812 , 392.11093, 373.39435, 360.46643],\n",
       "      dtype=float32)\n",
       "Coordinates:\n",
       "    depth      float32 1.4721018\n",
       "    latitude   float32 43.0\n",
       "  * time       (time) datetime64[ns] 2010-01-01 2010-02-01 ... 2015-12-01\n",
       "    longitude  float32 4.5\n",
       "Attributes:\n",
       "    units:          Pa\n",
       "    long_name:      ocean_pco2_expresses_as_carbon_dioxide_partial_pressure\n",
       "    standard_name:  surface_partial_pressure_of_carbon_dioxide_in_sea_water\n",
       "    _ChunkSizes:    [  1  36 127 335]"
      ]
     },
     "execution_count": 24,
     "metadata": {},
     "output_type": "execute_result"
    }
   ],
   "source": [
    "# selected latitude and longitude point \n",
    "lat_sel, lon_sel, depth_sel = 43, 4.5, 0\n",
    "\n",
    "## dataset extract for that poin \n",
    "co2_sel = co2_ds.sel(latitude=lat_sel, longitude=lon_sel,depth=depth_sel, method=\"nearest\")\n",
    "co2_sel.pco"
   ]
  },
  {
   "cell_type": "code",
   "execution_count": 25,
   "metadata": {},
   "outputs": [
    {
     "data": {
      "image/png": "[encoded data removed]",
      "text/plain": [
       "<Figure size 1152x576 with 1 Axes>"
      ]
     },
     "metadata": {
      "needs_background": "light"
     },
     "output_type": "display_data"
    }
   ],
   "source": [
    "fig, ax1 = plt.subplots(figsize=(width_inch, height_inch))\n",
    "\n",
    "timesteps = co2_sel.time\n",
    "\n",
    "sig1 = co2_sel.pco\n",
    "\n",
    "color1 = 'r'\n",
    "\n",
    "# plot time evolution of partial pressure of CO2 in surface water\n",
    "ax1.plot(timesteps, sig1, color1)\n",
    "ax1.set_ylabel('spco2', fontsize=14, color=color1)\n",
    "ax1.set_xlabel(\"Time\", fontsize=14)\n",
    "ax1.tick_params(axis='y', labelcolor=color1)\n",
    "\n",
    "title = \"spco2: surface partial pressure of CO2 [{:s}] @ ({:.2f},{:.2f})\".format(co2_sel.pco.units,lon_sel,lat_sel)\n",
    "plt.title(title, **title_fontstyle)\n",
    "\n",
    "plt.grid()\n",
    "\n",
    "# output file\n",
    "output_file = os.path.join(out_path,title.replace(' ','_')) + \".png\"\n",
    "\n",
    "# save the output file\n",
    "plt.savefig(output_file)\n",
    "\n",
    "plt.show()\n",
    "\n",
    "plt.close()"
   ]
  },
  {
   "cell_type": "markdown",
   "metadata": {},
   "source": [
    "***"
   ]
  },
  {
   "cell_type": "markdown",
   "metadata": {},
   "source": [
    "# 6. Conclusion"
   ]
  },
  {
   "cell_type": "markdown",
   "metadata": {},
   "source": [
    "[Go back to the \"Table of contents\"](#Table-of-contents)"
   ]
  },
  {
   "cell_type": "markdown",
   "metadata": {},
   "source": [
    "<div class=\"alert alert-block alert-success\">\n",
    "    <b>CONGRATULATIONS</b><br>\n",
    "  \n",
    "--- \n",
    "\n",
    "#### And thank you for your attention! :) We hope you enjoyed this training on the Mediterranean Biogeochemical model data provided through WEkEO by Copernicus Marine Service, for free, thanks to the European Commission.\n",
    "\n",
    "#### Now let's try to download new data and variables and to access and visualize them... you can try to make new maps and plots... and don't forget to try to the others notebooks available during this training.\n"
   ]
  },
  {
   "cell_type": "markdown",
   "metadata": {},
   "source": [
    "<img src='./img/all_partners_wekeo.png' alt='' align='center' width='75%'></img>"
   ]
  },
  {
   "cell_type": "markdown",
   "metadata": {},
   "source": [
    "<p style=\"text-align:left;\">This project is licensed under the <a href=\"./LICENSE\">MIT License</a> <span style=\"float:right;\"><a href=\"https://github.com/wekeo/wekeo-jupyter-lab\">View on GitHub</a> | <a href=\"https://www.wekeo.eu/\">WEkEO Website</a> | <a href=mailto:support@wekeo.eu>Contact</a></span></p>"
   ]
  },
  {
   "cell_type": "code",
   "execution_count": null,
   "metadata": {},
   "outputs": [],
   "source": []
  }
 ],
 "metadata": {
  "finalized": {
   "timestamp": 1575910822768,
   "trusted": true
  },
  "kernelspec": {
   "display_name": "Python 3",
   "language": "python",
   "name": "python3"
  },
  "language_info": {
   "codemirror_mode": {
    "name": "ipython",
    "version": 3
   },
   "file_extension": ".py",
   "mimetype": "text/x-python",
   "name": "python",
   "nbconvert_exporter": "python",
   "pygments_lexer": "ipython3",
   "version": "3.7.5"
  }
 },
 "nbformat": 4,
 "nbformat_minor": 4
}
