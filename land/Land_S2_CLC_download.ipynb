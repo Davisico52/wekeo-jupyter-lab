{
 "cells": [
  {
   "cell_type": "markdown",
   "metadata": {},
   "source": [
    "<img src='./img/LogoWekeo_Copernicus_RGB_0.png' align='right' width='20%'></img>"
   ]
  },
  {
   "cell_type": "markdown",
   "metadata": {},
   "source": [
    "# Tutorial on basic land applications (data download)"
   ]
  },
  {
   "cell_type": "markdown",
   "metadata": {},
   "source": [
    "In this tutorial we will use the WEkEO Jupyterhub to access and analyse data from the Copernicus Sentinel-2 and products from the [Copernicus Land Monitoring Service (CLMS)](https://land.copernicus.eu/). \n",
    "A region in northern Corsica has been selected as it contains representative landscape features and process elements which can be used to demonstrate the capabilities and strengths of Copernicus space component and services.\n",
    "The tutorial comprises the following steps:\n",
    "1. [Search and download data](#search_download): We will select and download a Sentinel-2 scene and the CLMS CORINE Land Cover (CLC) data from their original archive locations via WEkEO using the Harmonised Data Access (HAD) API.\n",
    "2.\tRead and view Sentinel-2 data: Once downloaded, we will read and view the Sentinel-2 data in geographic coordinates as true colour image.\n",
    "3.\tProcess and view Sentinel-2 data as a vegetation index: We will see how the vegetation density and health can be assessed from optical EO data to support crop and landscape management practices.\n",
    "4.\tRead and view the CLC data: Display the thematic CLC data with the correct legend.\n",
    "5.\tCLC2018 burnt area in the Sentinel-2 NDVI data: The two products give different results, but they can be combined to provide more information.\n",
    "\n",
    "<img src='./img/Intro_banner.jpg' align='center' width='100%'></img>"
   ]
  },
  {
   "cell_type": "markdown",
   "metadata": {},
   "source": [
    "## <a id='search_download'></a>1. Search and download data"
   ]
  },
  {
   "cell_type": "markdown",
   "metadata": {},
   "source": [
    "Before we begin we must prepare our environment. This includes importing the various python libraries that we will need."
   ]
  },
  {
   "cell_type": "markdown",
   "metadata": {},
   "source": [
    "### Load required libraries"
   ]
  },
  {
   "cell_type": "code",
   "execution_count": 1,
   "metadata": {},
   "outputs": [],
   "source": [
    "import os\n",
    "import sys\n",
    "import json\n",
    "import time\n",
    "import base64\n",
    "from IPython.core.display import HTML\n",
    "\n",
    "import requests\n",
    "import warnings\n",
    "warnings.filterwarnings('ignore')\n",
    "import zipfile"
   ]
  },
  {
   "cell_type": "markdown",
   "metadata": {},
   "source": [
    "### Load helper functions"
   ]
  },
  {
   "cell_type": "code",
   "execution_count": 2,
   "metadata": {},
   "outputs": [],
   "source": [
    "from hda_api_functions import *"
   ]
  },
  {
   "cell_type": "markdown",
   "metadata": {},
   "source": [
    "### Search for the dataset ID from the WEkEO landing platform"
   ]
  },
  {
   "cell_type": "markdown",
   "metadata": {},
   "source": [
    "The [WEkEO land platform](https://wekeo.eu/) offers access to a huge amount of data. Under [WEkEO DATA](https://wekeo.eu/data?view=catalogue), clicking the + to add a layer, opens a catalogue search. Here you can use free text, or you can use the filter options on the left to refine your search and look up data by satellite platform, sensor, Copernicus service, area (region of interest), general time period (past or future), as well as through a variety of flags.\n",
    "\n",
    "<img src='./img/WEkEO_data_01.jpg' align='middle' width='50%'></img>\n",
    "\n",
    "You can click on the datasets you are interested in and you will be guided to a range of details including the dataset temporal and spatial extent, collection ID, and metadata.\n",
    "\n",
    "When searching for the products of Sentinel-2, click under Platform in the Filters on the left-hand side of the catalogue panel. Two datasets are available, but we will use “SENTINEL-2 Level-1C”. Once you have found it, select 'Details' to read the dataset description.\n",
    "The dataset description provides the following information:\n",
    "* Abstract, containing a general description of the dataset,\n",
    "* Classification, including the Dataset ID\n",
    "* Resources, such as a link to the Product Data Format Specification guide, and JSON metadata\n",
    "* Contacts, where you can find further information about the data source from its provider.\n",
    "* Raw metadata, details of the dataset in XML format.\n",
    "\n",
    "<img src='./img/WEkEO_data_02.jpg' align='centre' width='50%'></img>\n",
    "\n",
    "You need the information from here to request data from the Harmonised Data Access API. \n",
    "\n",
    "This process is explained in a previous training session which can be found at the [WEkEO YouTube Channel](https://www.youtube.com/channel/UCvS3VvKmMKs1M2ZkmQPyRlw). The YouTube channel also contains lots of other useful training and support information, such as how to [clone the GitHub to refresh the training materials](https://www.youtube.com/watch?v=pmCkvXcnZxY&list=PLAT-b7DuvMgogqJa5_ii5GteOYmXCce24&index=2).\n",
    "\n",
    "For this session the details of the required datasets have already been prepared as JSON files which are used below.\n"
   ]
  },
  {
   "cell_type": "code",
   "execution_count": 3,
   "metadata": {},
   "outputs": [],
   "source": [
    "dataset_id_S2 = \"EO:EO:ESA:DAT:SENTINEL-2:MSI\"\n",
    "dataset_id_corine = \"EO:CLMS:DAT:CORINE\"\n",
    "\n",
    "filename_json_S2 = os.path.join(os.getcwd(),'S2_request.json') \n",
    "filename_json_corine = os.path.join(os.getcwd(), 'corine_corsica.json')"
   ]
  },
  {
   "cell_type": "markdown",
   "metadata": {},
   "source": [
    "### Generate the WEkEO API keys"
   ]
  },
  {
   "cell_type": "markdown",
   "metadata": {},
   "source": [
    "To interact with WEkEO's Harmonised Data Access (HDA) API, each user requires an API token. This token can be generated from an API Key. Your current token can be found in your [WEkEO Dashboard](https://www.wekeo.eu/web/guest/dashboard) under Settings, but it is better to do it in a programmatic way, as shown below, as tokens have a limited lifetime of 1 hour!"
   ]
  },
  {
   "cell_type": "code",
   "execution_count": 4,
   "metadata": {},
   "outputs": [],
   "source": [
    "# your WEkEO API username and password (needs to be in '  ')\n",
    "user_name = str(os.environ.get('WEKEO_USERNAME'))\n",
    "password = str(os.environ.get('WEKEO_PASS'))"
   ]
  },
  {
   "cell_type": "code",
   "execution_count": 5,
   "metadata": {},
   "outputs": [
    {
     "data": {
      "text/html": [
       "Your API key is: <b>bHVvbmdvX1NUUDphbm5hbWFyaWFsdW9uZ28=</b>"
      ],
      "text/plain": [
       "<IPython.core.display.HTML object>"
      ]
     },
     "metadata": {},
     "output_type": "display_data"
    }
   ],
   "source": [
    "api_key = generate_api_key(user_name, password)\n",
    "display(HTML('Your API key is: <b>'+api_key+'</b>'))"
   ]
  },
  {
   "cell_type": "markdown",
   "metadata": {},
   "source": [
    "### Initialise the Harmonised Data Access (HDA) API request\n",
    "To initialise an API request, you have to initialise a dictionary that contains information on dataset_id, api_key and download_directory_path.\n",
    "\n",
    "Please enter the path of the directory where the data shall be downloaded to."
   ]
  },
  {
   "cell_type": "code",
   "execution_count": 6,
   "metadata": {},
   "outputs": [
    {
     "name": "stdout",
     "output_type": "stream",
     "text": [
      "/home/develop/Workspace/WEkEO-notebooks/WEkEO-training_session-Land-Themes-JN/Geoff/wekeo-jupyter-lab/land/data/from_wekeo\n"
     ]
    }
   ],
   "source": [
    "# Enter here the directory path where you want to download the data to\n",
    "\n",
    "download_dir_path = os.path.join(os.getcwd(),'data/from_wekeo')\n",
    "\n",
    "print(download_dir_path)"
   ]
  },
  {
   "cell_type": "code",
   "execution_count": 7,
   "metadata": {},
   "outputs": [],
   "source": [
    "hda_dict_S2 = init(dataset_id_S2, api_key, download_dir_path)\n",
    "hda_dict_corine = init(dataset_id_corine, api_key, download_dir_path)"
   ]
  },
  {
   "cell_type": "markdown",
   "metadata": {},
   "source": [
    "### Request access token\n",
    "Once initialised, you can request an access token with the function get_access_token. The access token is stored in the hda_dict dictionary.\n"
   ]
  },
  {
   "cell_type": "code",
   "execution_count": 8,
   "metadata": {},
   "outputs": [
    {
     "name": "stdout",
     "output_type": "stream",
     "text": [
      "Getting an access token. This token is valid for one hour only.\n",
      "Success: Access token is c2bd023e-dec3-32b8-b417-7792265d1736\n",
      "Getting an access token. This token is valid for one hour only.\n",
      "Success: Access token is c2bd023e-dec3-32b8-b417-7792265d1736\n"
     ]
    }
   ],
   "source": [
    "hda_dict_S2 = get_access_token(hda_dict_S2)\n",
    "hda_dict_corine = get_access_token(hda_dict_corine)"
   ]
  },
  {
   "cell_type": "markdown",
   "metadata": {},
   "source": [
    "### Accept Terms and Conditions (if applicable)\n",
    "You might need to accept the Terms and Conditions, which you can do with the function acceptTandC.\n"
   ]
  },
  {
   "cell_type": "code",
   "execution_count": 9,
   "metadata": {},
   "outputs": [
    {
     "name": "stdout",
     "output_type": "stream",
     "text": [
      "Copernicus_General_License Terms and Conditions already accepted\n",
      "Copernicus_General_License Terms and Conditions already accepted\n"
     ]
    }
   ],
   "source": [
    "hda_dict_S2 = acceptTandC(hda_dict_S2)\n",
    "hda_dict_corine = acceptTandC(hda_dict_corine)"
   ]
  },
  {
   "cell_type": "markdown",
   "metadata": {},
   "source": [
    "### Load data descriptor file and request data\n",
    "The Harmonised Data Access API can read your data request from a JSON file. In this JSON-based file, you can describe the dataset you are interested in downloading. The file is in principle a dictionary. Following keys can be defined:\n",
    "\n",
    "- datasetID: the dataset's collection ID\n",
    "- stringChoiceValues: type of dataset, e.g. 'Non Time Critical'\n",
    "- dataRangeSelectValues: time period you would like to retrieve data\n",
    "- boundingBoxValues: optional to define a subset of a global field\n",
    "\n",
    "You can also get a specific example of a JSON file for a particular query from the WEkEO DATA portal."
   ]
  },
  {
   "cell_type": "markdown",
   "metadata": {},
   "source": [
    "### Displaying a JSON query from a request made to the Harmonised Data Access API through the data portal\n",
    "\n",
    "You can load the JSON file with json.load(). Alternatively, you can copy paste the dictionary describing your data into a cell as shown in the YouTube video.\n",
    "\n",
    "For this training session JSON file has already been prepared to select the correct Sentinel-2 scene and CLC data to correspond with later tasks. The details were loaded earlier in the JN. The following cell reads that JSON file and displays the contents."
   ]
  },
  {
   "cell_type": "code",
   "execution_count": 10,
   "metadata": {},
   "outputs": [
    {
     "name": "stdout",
     "output_type": "stream",
     "text": [
      "Your JSON file:\n",
      "{'datasetId': 'EO:ESA:DAT:SENTINEL-2:MSI', 'boundingBoxValues': [{'name': 'bbox', 'bbox': [9.425764239078317, 42.74275713340862, 9.735642520957134, 43.05969192516483]}], 'dateRangeSelectValues': [{'name': 'position', 'start': '2017-08-02T00:00:00.000Z', 'end': '2017-08-02T23:00:00.000Z'}], 'stringChoiceValues': [{'name': 'processingLevel', 'value': 'LEVEL2A'}]}\n"
     ]
    }
   ],
   "source": [
    "try:\n",
    "    with open(filename_json_S2, 'r') as f:\n",
    "        data_S2 = json.load(f)\n",
    "    print('Your JSON file:')\n",
    "    print(data_S2)\n",
    "except:\n",
    "    print('Your JSON file is not in the correct format, or is not found, please check it!')"
   ]
  },
  {
   "cell_type": "code",
   "execution_count": 11,
   "metadata": {},
   "outputs": [
    {
     "name": "stdout",
     "output_type": "stream",
     "text": [
      "Your JSON file:\n",
      "{'datasetId': 'EO:CLMS:DAT:CORINE', 'stringChoiceValues': [{'name': 'product_type', 'value': 'Corine Land Cover 2018'}, {'name': 'format', 'value': 'GeoTiff100mt'}]}\n"
     ]
    }
   ],
   "source": [
    "try:\n",
    "    with open(filename_json_corine, 'r') as f:\n",
    "        data_corine = json.load(f)\n",
    "    print('Your JSON file:')\n",
    "    print(data_corine)\n",
    "except:\n",
    "    print('Your JSON file is not in the correct format, or is not found, please check it!')"
   ]
  },
  {
   "cell_type": "markdown",
   "metadata": {},
   "source": [
    "### Initiating the request by setting a job ID"
   ]
  },
  {
   "cell_type": "code",
   "execution_count": 12,
   "metadata": {},
   "outputs": [
    {
     "name": "stdout",
     "output_type": "stream",
     "text": [
      "Query successfully submitted. Job ID is mX76sM3GtOq35jqc_mkb7bswE-E\n",
      "Query successfully submitted. Status is running\n",
      "Query successfully submitted. Status is running\n",
      "Query successfully submitted. Status is running\n",
      "Query successfully submitted. Status is running\n",
      "Query successfully submitted. Status is completed\n",
      "Query successfully submitted. Job ID is nGxnVcbbqBWLDbdQoEldY9QMTAU\n",
      "Query successfully submitted. Status is running\n",
      "Query successfully submitted. Status is running\n",
      "Query successfully submitted. Status is running\n",
      "Query successfully submitted. Status is completed\n"
     ]
    }
   ],
   "source": [
    "hda_dict_S2 = get_job_id(hda_dict_S2, data_S2)\n",
    "hda_dict_corine = get_job_id(hda_dict_corine, data_corine)\n"
   ]
  },
  {
   "cell_type": "markdown",
   "metadata": {},
   "source": [
    "### Build list of file names to be ordered and downloaded"
   ]
  },
  {
   "cell_type": "code",
   "execution_count": 13,
   "metadata": {},
   "outputs": [
    {
     "name": "stdout",
     "output_type": "stream",
     "text": [
      "************** Results *******************************\n",
      "{\n",
      "    \"content\": [\n",
      "        {\n",
      "            \"downloadUri\": null,\n",
      "            \"filename\": \"S2A_MSIL2A_20170802T101031_N0205_R022_T32TNN_20170802T101051.SAFE\",\n",
      "            \"order\": null,\n",
      "            \"productInfo\": {\n",
      "                \"datasetId\": \"EO:ESA:DAT:SENTINEL-2:MSI\",\n",
      "                \"product\": \"S2A_MSIL2A_20170802T101031_N0205_R022_T32TNN_20170802T101051.SAFE\",\n",
      "                \"productEndDate\": \"2017-08-02T10:10:31.026000Z\",\n",
      "                \"productStartDate\": \"2017-08-02T10:10:31.026000Z\"\n",
      "            },\n",
      "            \"size\": 845615368,\n",
      "            \"url\": \"d5748e25-b24b-58c3-ae91-ed6a50460d9a/S2A_MSIL2A_20170802T101031_N0205_R022_T32TNN_20170802T101051.SAFE\"\n",
      "        }\n",
      "    ],\n",
      "    \"itemsInPage\": 1,\n",
      "    \"nextPage\": null,\n",
      "    \"page\": 0,\n",
      "    \"pages\": 1,\n",
      "    \"previousPage\": null,\n",
      "    \"totItems\": 1\n",
      "}\n",
      "*******************************************\n",
      "************** Results *******************************\n",
      "{\n",
      "    \"content\": [\n",
      "        {\n",
      "            \"downloadUri\": null,\n",
      "            \"filename\": \"u2018_clc2018_v2020_20u1_raster100m.zip\",\n",
      "            \"order\": null,\n",
      "            \"productInfo\": {\n",
      "                \"datasetId\": \"EO:CLMS:DAT:CORINE\",\n",
      "                \"product\": \"u2018_clc2018_v2020_20u1_raster100m\",\n",
      "                \"productEndDate\": \"1990-01-01T00:00:00Z\",\n",
      "                \"productStartDate\": \"1990-01-01T00:00:00Z\"\n",
      "            },\n",
      "            \"size\": 131037466,\n",
      "            \"url\": \"https://cws-download.eea.europa.eu/pan-european/clc/raster/100m/u2018_clc2018_v2020_20u1_raster100m.zip\"\n",
      "        }\n",
      "    ],\n",
      "    \"itemsInPage\": 1,\n",
      "    \"nextPage\": null,\n",
      "    \"page\": 0,\n",
      "    \"pages\": 1,\n",
      "    \"previousPage\": null,\n",
      "    \"totItems\": 1\n",
      "}\n",
      "*******************************************\n"
     ]
    }
   ],
   "source": [
    "hda_dict_S2 = get_results_list(hda_dict_S2)\n",
    "hda_dict_corine = get_results_list(hda_dict_corine)\n"
   ]
  },
  {
   "cell_type": "markdown",
   "metadata": {},
   "source": [
    "### Create an order ID for each file to be downloaded"
   ]
  },
  {
   "cell_type": "code",
   "execution_count": 14,
   "metadata": {},
   "outputs": [
    {
     "name": "stdout",
     "output_type": "stream",
     "text": [
      "Query successfully submitted. Order ID is W5mSZ9_UXR6Qas15ybV3QyQdSJ4\n",
      "Query successfully submitted. Status is completed\n",
      "Query successfully submitted. Order ID is wVKR4dc9wRvl70gpVU6GbfZ4SHM\n",
      "Query successfully submitted. Status is running\n",
      "Query successfully submitted. Status is completed\n"
     ]
    }
   ],
   "source": [
    "hda_dict_S2 = get_order_ids(hda_dict_S2)\n",
    "hda_dict_corine = get_order_ids(hda_dict_corine)"
   ]
  },
  {
   "cell_type": "markdown",
   "metadata": {},
   "source": [
    "### Download requested data"
   ]
  },
  {
   "cell_type": "code",
   "execution_count": 15,
   "metadata": {},
   "outputs": [
    {
     "name": "stdout",
     "output_type": "stream",
     "text": [
      "Downloading /home/develop/Workspace/WEkEO-notebooks/WEkEO-training_session-Land-Themes-JN/Geoff/wekeo-jupyter-lab/land/data/from_wekeo/S2A_MSIL2A_20170802T101031_N0205_R022_T32TNN_20170802T101051.SAFE\n"
     ]
    },
    {
     "ename": "IsADirectoryError",
     "evalue": "[Errno 21] Is a directory: '/home/develop/Workspace/WEkEO-notebooks/WEkEO-training_session-Land-Themes-JN/Geoff/wekeo-jupyter-lab/land/data/from_wekeo/S2A_MSIL2A_20170802T101031_N0205_R022_T32TNN_20170802T101051.SAFE'",
     "output_type": "error",
     "traceback": [
      "\u001b[0;31m---------------------------------------------------------------------------\u001b[0m",
      "\u001b[0;31mIsADirectoryError\u001b[0m                         Traceback (most recent call last)",
      "\u001b[0;32m<ipython-input-15-ffb7aaeba48d>\u001b[0m in \u001b[0;36m<module>\u001b[0;34m()\u001b[0m\n\u001b[0;32m----> 1\u001b[0;31m \u001b[0mhda_dict_S2\u001b[0m \u001b[0;34m=\u001b[0m \u001b[0mdownload_data\u001b[0m\u001b[0;34m(\u001b[0m\u001b[0mhda_dict_S2\u001b[0m\u001b[0;34m)\u001b[0m\u001b[0;34m\u001b[0m\u001b[0;34m\u001b[0m\u001b[0m\n\u001b[0m\u001b[1;32m      2\u001b[0m \u001b[0mhda_dict_corine\u001b[0m \u001b[0;34m=\u001b[0m \u001b[0mdownload_data\u001b[0m\u001b[0;34m(\u001b[0m\u001b[0mhda_dict_corine\u001b[0m\u001b[0;34m)\u001b[0m\u001b[0;34m\u001b[0m\u001b[0;34m\u001b[0m\u001b[0m\n",
      "\u001b[0;32m/home/develop/Workspace/WEkEO-notebooks/WEkEO-training_session-Land-Themes-JN/Geoff/wekeo-jupyter-lab/land/hda_api_functions.py\u001b[0m in \u001b[0;36mdownload_data\u001b[0;34m(hda_dict, file_extension, user_filename)\u001b[0m\n\u001b[1;32m    442\u001b[0m         time_elapsed = downloadFile(download_url, hda_dict['headers'],\\\n\u001b[1;32m    443\u001b[0m                        \u001b[0mhda_dict\u001b[0m\u001b[0;34m[\u001b[0m\u001b[0;34m'download_dir_path'\u001b[0m\u001b[0;34m]\u001b[0m\u001b[0;34m,\u001b[0m \u001b[0mfile_name\u001b[0m\u001b[0;34m,\u001b[0m\u001b[0;31m\\\u001b[0m\u001b[0;34m\u001b[0m\u001b[0;34m\u001b[0m\u001b[0m\n\u001b[0;32m--> 444\u001b[0;31m                        product_size)\n\u001b[0m\u001b[1;32m    445\u001b[0m \u001b[0;34m\u001b[0m\u001b[0m\n\u001b[1;32m    446\u001b[0m         \u001b[0mfileNames\u001b[0m\u001b[0;34m.\u001b[0m\u001b[0mappend\u001b[0m\u001b[0;34m(\u001b[0m\u001b[0mos\u001b[0m\u001b[0;34m.\u001b[0m\u001b[0mpath\u001b[0m\u001b[0;34m.\u001b[0m\u001b[0mjoin\u001b[0m\u001b[0;34m(\u001b[0m\u001b[0mhda_dict\u001b[0m\u001b[0;34m[\u001b[0m\u001b[0;34m'download_dir_path'\u001b[0m\u001b[0;34m]\u001b[0m\u001b[0;34m,\u001b[0m\u001b[0mfile_name\u001b[0m\u001b[0;34m)\u001b[0m\u001b[0;34m)\u001b[0m\u001b[0;34m\u001b[0m\u001b[0;34m\u001b[0m\u001b[0m\n",
      "\u001b[0;32m/home/develop/Workspace/WEkEO-notebooks/WEkEO-training_session-Land-Themes-JN/Geoff/wekeo-jupyter-lab/land/hda_api_functions.py\u001b[0m in \u001b[0;36mdownloadFile\u001b[0;34m(url, headers, directory, file_name, total_length)\u001b[0m\n\u001b[1;32m    333\u001b[0m         \u001b[0mfilename\u001b[0m \u001b[0;34m=\u001b[0m \u001b[0mos\u001b[0m\u001b[0;34m.\u001b[0m\u001b[0mpath\u001b[0m\u001b[0;34m.\u001b[0m\u001b[0mjoin\u001b[0m\u001b[0;34m(\u001b[0m\u001b[0mdirectory\u001b[0m\u001b[0;34m,\u001b[0m  \u001b[0mfile_name\u001b[0m\u001b[0;34m)\u001b[0m\u001b[0;34m\u001b[0m\u001b[0;34m\u001b[0m\u001b[0m\n\u001b[1;32m    334\u001b[0m         \u001b[0mprint\u001b[0m\u001b[0;34m(\u001b[0m\u001b[0;34m\"Downloading \"\u001b[0m \u001b[0;34m+\u001b[0m \u001b[0mfilename\u001b[0m\u001b[0;34m)\u001b[0m\u001b[0;34m\u001b[0m\u001b[0;34m\u001b[0m\u001b[0m\n\u001b[0;32m--> 335\u001b[0;31m         \u001b[0;32mwith\u001b[0m \u001b[0mopen\u001b[0m\u001b[0;34m(\u001b[0m\u001b[0mfilename\u001b[0m\u001b[0;34m,\u001b[0m \u001b[0;34m'wb'\u001b[0m\u001b[0;34m)\u001b[0m \u001b[0;32mas\u001b[0m \u001b[0mf\u001b[0m\u001b[0;34m:\u001b[0m\u001b[0;34m\u001b[0m\u001b[0;34m\u001b[0m\u001b[0m\n\u001b[0m\u001b[1;32m    336\u001b[0m             \u001b[0mstart\u001b[0m \u001b[0;34m=\u001b[0m \u001b[0mtime\u001b[0m\u001b[0;34m.\u001b[0m\u001b[0mprocess_time\u001b[0m\u001b[0;34m(\u001b[0m\u001b[0;34m)\u001b[0m\u001b[0;34m\u001b[0m\u001b[0;34m\u001b[0m\u001b[0m\n\u001b[1;32m    337\u001b[0m             \u001b[0mprint\u001b[0m\u001b[0;34m(\u001b[0m\u001b[0;34m\"File size is: %8.2f MB\"\u001b[0m \u001b[0;34m%\u001b[0m \u001b[0;34m(\u001b[0m\u001b[0mtotal_length\u001b[0m\u001b[0;34m/\u001b[0m\u001b[0;34m(\u001b[0m\u001b[0;36m1024\u001b[0m\u001b[0;34m*\u001b[0m\u001b[0;36m1024\u001b[0m\u001b[0;34m)\u001b[0m\u001b[0;34m)\u001b[0m\u001b[0;34m)\u001b[0m\u001b[0;34m\u001b[0m\u001b[0;34m\u001b[0m\u001b[0m\n",
      "\u001b[0;31mIsADirectoryError\u001b[0m: [Errno 21] Is a directory: '/home/develop/Workspace/WEkEO-notebooks/WEkEO-training_session-Land-Themes-JN/Geoff/wekeo-jupyter-lab/land/data/from_wekeo/S2A_MSIL2A_20170802T101031_N0205_R022_T32TNN_20170802T101051.SAFE'"
     ]
    }
   ],
   "source": [
    "hda_dict_S2 = download_data(hda_dict_S2)\n",
    "hda_dict_corine = download_data(hda_dict_corine)"
   ]
  },
  {
   "cell_type": "markdown",
   "metadata": {},
   "source": [
    "### Decompressing Sentinel 2 and Corine Land Cover data"
   ]
  },
  {
   "cell_type": "code",
   "execution_count": 16,
   "metadata": {},
   "outputs": [],
   "source": [
    "#rename S2 file\n",
    "for item in os.listdir(download_dir_path): \n",
    "    if item.endswith('SAFE'):\n",
    "        os.rename(os.path.join(download_dir_path, item), os.path.join(download_dir_path, item +\".zip\"))"
   ]
  },
  {
   "cell_type": "markdown",
   "metadata": {},
   "source": [
    "In case you have permission issues when renaming the .SAFE file with the code above, please manually do that by right-clicking the file, then rename, then add .zip to the end of the filename.\n",
    "\n",
    "For example:\n",
    "- From: data/from_wekeo/S2A_MSIL2A_20170802T101031_N0205_R022_T32TNN_20170802T101051.SAFE   \n",
    "- To: data/from_wekeo/S2A_MSIL2A_20170802T101031_N0205_R022_T32TNN_20170802T101051.SAFE.zip"
   ]
  },
  {
   "cell_type": "code",
   "execution_count": 17,
   "metadata": {},
   "outputs": [
    {
     "name": "stdout",
     "output_type": "stream",
     "text": [
      ".gitkeep\n",
      "u2018_clc2018_v2020_20u1_raster100m.zip\n",
      "S2A_MSIL2A_20170802T101031_N0205_R022_T32TNN_20170802T101051.SAFE.zip\n",
      ".ipynb_checkpoints\n"
     ]
    }
   ],
   "source": [
    "extension = \".zip\"\n",
    "for item in os.listdir(download_dir_path): # loop through items in dir\n",
    "    print(item)\n",
    "    if item.endswith(extension): # check for \".zip\" extension\n",
    "        file_name = os.path.join(download_dir_path, item) # get full path of files\n",
    "        zip_ref = zipfile.ZipFile(file_name) # create zipfile object\n",
    "        zip_ref.extractall(download_dir_path) # extract file to dir\n",
    "        zip_ref.close() # close file"
   ]
  },
  {
   "cell_type": "markdown",
   "metadata": {},
   "source": [
    "<hr>"
   ]
  },
  {
   "cell_type": "markdown",
   "metadata": {},
   "source": [
    "<p><img src='./img/all_partners_wekeo_2.png' align='left' alt='Logo EU Copernicus' width='100%'></img></p>"
   ]
  }
 ],
 "metadata": {
  "kernelspec": {
   "display_name": "Python 3",
   "language": "python",
   "name": "python3"
  },
  "language_info": {
   "codemirror_mode": {
    "name": "ipython",
    "version": 3
   },
   "file_extension": ".py",
   "mimetype": "text/x-python",
   "name": "python",
   "nbconvert_exporter": "python",
   "pygments_lexer": "ipython3",
   "version": "3.7.8"
  }
 },
 "nbformat": 4,
 "nbformat_minor": 4
}
