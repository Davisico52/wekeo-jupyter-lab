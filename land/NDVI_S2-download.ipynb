{
 "cells": [
  {
   "cell_type": "markdown",
   "metadata": {},
   "source": [
    "# WEkEO – Crop Status - JN02 (data download)"
   ]
  },
  {
   "cell_type": "markdown",
   "metadata": {},
   "source": [
    "### Load required libraries"
   ]
  },
  {
   "cell_type": "code",
   "execution_count": 1,
   "metadata": {},
   "outputs": [],
   "source": [
    "import os\n",
    "import sys\n",
    "import json\n",
    "import time\n",
    "import base64\n",
    "from IPython.core.display import HTML\n",
    "\n",
    "import requests\n",
    "import warnings\n",
    "warnings.filterwarnings('ignore')\n",
    "import zipfile"
   ]
  },
  {
   "cell_type": "markdown",
   "metadata": {},
   "source": [
    "### Load helper functions"
   ]
  },
  {
   "cell_type": "code",
   "execution_count": 2,
   "metadata": {},
   "outputs": [],
   "source": [
    "from hda_api_functions import *"
   ]
  },
  {
   "cell_type": "markdown",
   "metadata": {},
   "source": [
    "### Search for the dataset ID from the WEkEO landing platform"
   ]
  },
  {
   "cell_type": "code",
   "execution_count": 3,
   "metadata": {},
   "outputs": [],
   "source": [
    "dataset_id_S2 = \"EO:EO:ESA:DAT:SENTINEL-2:MSI\"\n",
    "dataset_id_corine = \"EO:CLMS:DAT:CORINE\"\n",
    "\n",
    "filename_json_S2 = os.path.join(os.getcwd(),'S2_request.json') \n",
    "filename_json_corine = os.path.join(os.getcwd(), 'corine_corsica.json')\n",
    "\n"
   ]
  },
  {
   "cell_type": "markdown",
   "metadata": {},
   "source": [
    "### Generate the WEkEO API keys"
   ]
  },
  {
   "cell_type": "code",
   "execution_count": 4,
   "metadata": {},
   "outputs": [],
   "source": [
    "# your WEkEO API username and password (needs to be in '  ')\n",
    "user_name = str(os.environ.get('WEKEO_USERNAME'))\n",
    "password = str(os.environ.get('WEKEO_PASS'))"
   ]
  },
  {
   "cell_type": "code",
   "execution_count": 5,
   "metadata": {},
   "outputs": [
    {
     "data": {
      "text/html": [
       "Your API key is: <b>bHVvbmdvX1NUUDphbm5hbWFyaWFsdW9uZ28=</b>"
      ],
      "text/plain": [
       "<IPython.core.display.HTML object>"
      ]
     },
     "metadata": {},
     "output_type": "display_data"
    }
   ],
   "source": [
    "api_key = generate_api_key(user_name, password)\n",
    "display(HTML('Your API key is: <b>'+api_key+'</b>'))"
   ]
  },
  {
   "cell_type": "markdown",
   "metadata": {},
   "source": [
    "### Initialise the Harmonised Data Access (HDA) API request\n",
    "In order to initialise an API request, you have to initialise a dictionary that contains information on dataset_id, api_key and download_directory_path.\n",
    "\n",
    "Please enter the path of the directory where the data shall be downloaded to."
   ]
  },
  {
   "cell_type": "code",
   "execution_count": 6,
   "metadata": {},
   "outputs": [
    {
     "name": "stdout",
     "output_type": "stream",
     "text": [
      "/home/develop/Workspace/WEkEO-notebooks/WEkEO-training_session-Land-Themes-JN/Geoff/data/from_wekeo\n"
     ]
    }
   ],
   "source": [
    "# Enter here the directory path where you want to download the data to\n",
    "\n",
    "download_dir_path = os.path.join(os.getcwd(),'data/from_wekeo')\n",
    "\n",
    "print(download_dir_path)"
   ]
  },
  {
   "cell_type": "code",
   "execution_count": 7,
   "metadata": {},
   "outputs": [],
   "source": [
    "hda_dict_S2 = init(dataset_id_S2, api_key, download_dir_path)\n",
    "hda_dict_corine = init(dataset_id_corine, api_key, download_dir_path)"
   ]
  },
  {
   "cell_type": "code",
   "execution_count": 8,
   "metadata": {},
   "outputs": [
    {
     "name": "stdout",
     "output_type": "stream",
     "text": [
      "Getting an access token. This token is valid for one hour only.\n",
      "Success: Access token is 0641ed61-7520-3049-b19f-23da5169d8df\n",
      "Getting an access token. This token is valid for one hour only.\n",
      "Success: Access token is 0641ed61-7520-3049-b19f-23da5169d8df\n"
     ]
    }
   ],
   "source": [
    "hda_dict_S2 = get_access_token(hda_dict_S2)\n",
    "hda_dict_corine = get_access_token(hda_dict_corine)"
   ]
  },
  {
   "cell_type": "code",
   "execution_count": 9,
   "metadata": {},
   "outputs": [
    {
     "name": "stdout",
     "output_type": "stream",
     "text": [
      "Copernicus_General_License Terms and Conditions already accepted\n",
      "Copernicus_General_License Terms and Conditions already accepted\n"
     ]
    }
   ],
   "source": [
    "hda_dict_S2 = acceptTandC(hda_dict_S2)\n",
    "hda_dict_corine = acceptTandC(hda_dict_corine)"
   ]
  },
  {
   "cell_type": "markdown",
   "metadata": {},
   "source": [
    "### Load data descriptor file and request data\n",
    "The Harmonised Data Access API can read your data request from a JSON file. In this JSON-based file, you can describe the dataset you are interested in downloading. The file is in principle a dictionary. Following keys can be defined:\n",
    "\n",
    "- datasetID: the dataset's collection ID\n",
    "- stringChoiceValues: type of dataset, e.g. 'Non Time Critical'\n",
    "- dataRangeSelectValues: time period you would like to retrieve data\n",
    "- boundingBoxValues: optional to define a subset of a global field\n",
    "\n",
    "You can also get a specific example of a JSON file for a particular query from the WEkEO DATA portal when you search as above - you just need to click on API request and the information needed for the JSON file will be displayed."
   ]
  },
  {
   "cell_type": "markdown",
   "metadata": {},
   "source": [
    "### Displaying a JSON query from a request made to the Harmonised Data Access API through the data portal\n",
    "\n",
    "You can load the JSON file with json.load(). Alternatively, you can copy paste the dictionary describing your data into a cell, as done below."
   ]
  },
  {
   "cell_type": "code",
   "execution_count": 10,
   "metadata": {},
   "outputs": [
    {
     "name": "stdout",
     "output_type": "stream",
     "text": [
      "Your JSON file:\n",
      "{'datasetId': 'EO:ESA:DAT:SENTINEL-2:MSI', 'boundingBoxValues': [{'name': 'bbox', 'bbox': [9.425764239078317, 42.74275713340862, 9.735642520957134, 43.05969192516483]}], 'dateRangeSelectValues': [{'name': 'position', 'start': '2017-08-02T00:00:00.000Z', 'end': '2017-08-02T23:00:00.000Z'}], 'stringChoiceValues': [{'name': 'processingLevel', 'value': 'LEVEL2A'}]}\n"
     ]
    }
   ],
   "source": [
    "try:\n",
    "    with open(filename_json_S2, 'r') as f:\n",
    "        data_S2 = json.load(f)\n",
    "    print('Your JSON file:')\n",
    "    print(data_S2)\n",
    "except:\n",
    "    print('Your JSON file is not in the correct format, or is not found, please check it!')"
   ]
  },
  {
   "cell_type": "code",
   "execution_count": 11,
   "metadata": {},
   "outputs": [
    {
     "name": "stdout",
     "output_type": "stream",
     "text": [
      "Your JSON file:\n",
      "{'datasetId': 'EO:CLMS:DAT:CORINE', 'stringChoiceValues': [{'name': 'product_type', 'value': 'Corine Land Cover 2018'}, {'name': 'format', 'value': 'GeoTiff100mt'}]}\n"
     ]
    }
   ],
   "source": [
    "try:\n",
    "    with open(filename_json_corine, 'r') as f:\n",
    "        data_corine = json.load(f)\n",
    "    print('Your JSON file:')\n",
    "    print(data_corine)\n",
    "except:\n",
    "    print('Your JSON file is not in the correct format, or is not found, please check it!')"
   ]
  },
  {
   "cell_type": "markdown",
   "metadata": {},
   "source": [
    "### Initiating the request by setting a job ID"
   ]
  },
  {
   "cell_type": "code",
   "execution_count": 12,
   "metadata": {},
   "outputs": [
    {
     "name": "stdout",
     "output_type": "stream",
     "text": [
      "Query successfully submitted. Job ID is jolAdBNuBD4EDxGRuXdvhvEHzkY\n",
      "Query successfully submitted. Status is running\n",
      "Query successfully submitted. Status is completed\n",
      "Query successfully submitted. Job ID is GlGasJBicdBiBwIToojs6EA66pI\n",
      "Query successfully submitted. Status is running\n",
      "Query successfully submitted. Status is running\n",
      "Query successfully submitted. Status is completed\n"
     ]
    }
   ],
   "source": [
    "hda_dict_S2 = get_job_id(hda_dict_S2, data_S2)\n",
    "hda_dict_corine = get_job_id(hda_dict_corine, data_corine)\n"
   ]
  },
  {
   "cell_type": "markdown",
   "metadata": {},
   "source": [
    "### Build list of file names to be ordered and downloaded"
   ]
  },
  {
   "cell_type": "code",
   "execution_count": 13,
   "metadata": {},
   "outputs": [
    {
     "name": "stdout",
     "output_type": "stream",
     "text": [
      "************** Results *******************************\n",
      "{\n",
      "    \"content\": [\n",
      "        {\n",
      "            \"downloadUri\": null,\n",
      "            \"filename\": \"S2A_MSIL2A_20170802T101031_N0205_R022_T32TNN_20170802T101051.SAFE\",\n",
      "            \"order\": null,\n",
      "            \"productInfo\": {\n",
      "                \"datasetId\": \"EO:ESA:DAT:SENTINEL-2:MSI\",\n",
      "                \"product\": \"S2A_MSIL2A_20170802T101031_N0205_R022_T32TNN_20170802T101051.SAFE\",\n",
      "                \"productEndDate\": \"2017-08-02T10:10:31.026000Z\",\n",
      "                \"productStartDate\": \"2017-08-02T10:10:31.026000Z\"\n",
      "            },\n",
      "            \"size\": 845615368,\n",
      "            \"url\": \"d5748e25-b24b-58c3-ae91-ed6a50460d9a/S2A_MSIL2A_20170802T101031_N0205_R022_T32TNN_20170802T101051.SAFE\"\n",
      "        }\n",
      "    ],\n",
      "    \"itemsInPage\": 1,\n",
      "    \"nextPage\": null,\n",
      "    \"page\": 0,\n",
      "    \"pages\": 1,\n",
      "    \"previousPage\": null,\n",
      "    \"totItems\": 1\n",
      "}\n",
      "*******************************************\n",
      "************** Results *******************************\n",
      "{\n",
      "    \"content\": [\n",
      "        {\n",
      "            \"downloadUri\": null,\n",
      "            \"filename\": \"u2018_clc2018_v2020_20u1_raster100m.zip\",\n",
      "            \"order\": null,\n",
      "            \"productInfo\": {\n",
      "                \"datasetId\": \"EO:CLMS:DAT:CORINE\",\n",
      "                \"product\": \"u2018_clc2018_v2020_20u1_raster100m\",\n",
      "                \"productEndDate\": \"1990-01-01T00:00:00Z\",\n",
      "                \"productStartDate\": \"1990-01-01T00:00:00Z\"\n",
      "            },\n",
      "            \"size\": 131037466,\n",
      "            \"url\": \"https://cws-download.eea.europa.eu/pan-european/clc/raster/100m/u2018_clc2018_v2020_20u1_raster100m.zip\"\n",
      "        }\n",
      "    ],\n",
      "    \"itemsInPage\": 1,\n",
      "    \"nextPage\": null,\n",
      "    \"page\": 0,\n",
      "    \"pages\": 1,\n",
      "    \"previousPage\": null,\n",
      "    \"totItems\": 1\n",
      "}\n",
      "*******************************************\n"
     ]
    }
   ],
   "source": [
    "hda_dict_S2 = get_results_list(hda_dict_S2)\n",
    "hda_dict_corine = get_results_list(hda_dict_corine)\n"
   ]
  },
  {
   "cell_type": "markdown",
   "metadata": {},
   "source": [
    "### Create an order ID for each file to be downloaded"
   ]
  },
  {
   "cell_type": "code",
   "execution_count": 14,
   "metadata": {},
   "outputs": [
    {
     "name": "stdout",
     "output_type": "stream",
     "text": [
      "Query successfully submitted. Order ID is us8OvX3Y-ZvIabQTtv9mp63y1sQ\n",
      "Query successfully submitted. Status is completed\n",
      "Query successfully submitted. Order ID is KI7ChAVJS4U3GZ5_PQR2huFBUHg\n",
      "Query successfully submitted. Status is running\n",
      "Query successfully submitted. Status is completed\n"
     ]
    }
   ],
   "source": [
    "hda_dict_S2 = get_order_ids(hda_dict_S2)\n",
    "hda_dict_corine = get_order_ids(hda_dict_corine)"
   ]
  },
  {
   "cell_type": "markdown",
   "metadata": {},
   "source": [
    "### Download requested data"
   ]
  },
  {
   "cell_type": "code",
   "execution_count": 15,
   "metadata": {},
   "outputs": [
    {
     "name": "stdout",
     "output_type": "stream",
     "text": [
      "Downloading /home/develop/Workspace/WEkEO-notebooks/WEkEO-training_session-Land-Themes-JN/Geoff/data/from_wekeo/S2A_MSIL2A_20170802T101031_N0205_R022_T32TNN_20170802T101051.SAFE\n",
      "File size is:   806.44 MB\n",
      "[==================================================]     47.27 Mbps[  806.69] MB downloaded, 48406.53 kbps\n",
      "Download complete...\n",
      "Time Elapsed: 17.064909907 seconds\n",
      "Downloading /home/develop/Workspace/WEkEO-notebooks/WEkEO-training_session-Land-Themes-JN/Geoff/data/from_wekeo/u2018_clc2018_v2020_20u1_raster100m.zip\n",
      "File size is:   124.97 MB\n",
      "[==================================================]      4.31 Mbps[  124.97] MB downloaded,  4415.33 kbps\n",
      "Download complete...\n",
      "Time Elapsed: 28.982344846 seconds\n"
     ]
    }
   ],
   "source": [
    "hda_dict_S2 = download_data(hda_dict_S2)\n",
    "hda_dict_corine = download_data(hda_dict_corine)"
   ]
  },
  {
   "cell_type": "markdown",
   "metadata": {},
   "source": [
    "##### Decompressing Sentinel 2 and Corine Land Cover data"
   ]
  },
  {
   "cell_type": "code",
   "execution_count": 16,
   "metadata": {},
   "outputs": [],
   "source": [
    "for item in os.listdir(download_dir_path): \n",
    "    if item.endswith('SAFE'):\n",
    "        os.rename(os.path.join(download_dir_path, item), os.path.join(download_dir_path, item +\".zip\"))"
   ]
  },
  {
   "cell_type": "code",
   "execution_count": 17,
   "metadata": {},
   "outputs": [
    {
     "name": "stdout",
     "output_type": "stream",
     "text": [
      "u2018_clc2018_v2020_20u1_raster100m.zip\n",
      "S2A_MSIL2A_20170802T101031_N0205_R022_T32TNN_20170802T101051.SAFE.zip\n",
      ".ipynb_checkpoints\n"
     ]
    }
   ],
   "source": [
    "extension = \".zip\"\n",
    "for item in os.listdir(download_dir_path): # loop through items in dir\n",
    "    print(item)\n",
    "    if item.endswith(extension): # check for \".zip\" extension\n",
    "        file_name = os.path.join(download_dir_path, item) # get full path of files\n",
    "        zip_ref = zipfile.ZipFile(file_name) # create zipfile object\n",
    "        zip_ref.extractall(download_dir_path) # extract file to dir\n",
    "        zip_ref.close() # close file"
   ]
  }
 ],
 "metadata": {
  "kernelspec": {
   "display_name": "Python 3",
   "language": "python",
   "name": "python3"
  },
  "language_info": {
   "codemirror_mode": {
    "name": "ipython",
    "version": 3
   },
   "file_extension": ".py",
   "mimetype": "text/x-python",
   "name": "python",
   "nbconvert_exporter": "python",
   "pygments_lexer": "ipython3",
   "version": "3.7.8"
  }
 },
 "nbformat": 4,
 "nbformat_minor": 4
}
