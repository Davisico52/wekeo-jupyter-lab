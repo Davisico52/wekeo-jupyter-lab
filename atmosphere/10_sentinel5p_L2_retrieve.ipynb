{
 "cells": [
  {
   "cell_type": "markdown",
   "metadata": {
    "Collapsed": "false"
   },
   "source": [
    "<img src='./img/LogoWekeo_Copernicus_RGB_0.png' alt='Logo EU Copernicus EUMETSAT' align='right' width='20%'></img>"
   ]
  },
  {
   "cell_type": "markdown",
   "metadata": {
    "Collapsed": "false"
   },
   "source": [
    "<br>"
   ]
  },
  {
   "cell_type": "markdown",
   "metadata": {
    "Collapsed": "false"
   },
   "source": [
    "<a href=\"./00_index.ipynb\"><< Index</a><br>\n",
    "<a href=\"./01_wekeo_atmosphere_data_overview.ipynb\"><< 01 - Overview - Atmosphere data products on WEkEO</a><span style=\"float:right;\"><a href=\"./11_sentinel5p_L2_load_browse.ipynb\">11 - Sentinel-5P Carbon Monoxide - Load and browse >></a></span>"
   ]
  },
  {
   "cell_type": "markdown",
   "metadata": {},
   "source": [
    "<div class=\"alert alert-block alert-info\">\n",
    "<b>DATA RETRIEVE</b></div>"
   ]
  },
  {
   "cell_type": "markdown",
   "metadata": {
    "Collapsed": "false"
   },
   "source": [
    "# Copernicus Sentinel-5 Precursor (Sentinel-5p) - Carbon Monoxide"
   ]
  },
  {
   "cell_type": "markdown",
   "metadata": {},
   "source": [
    "The example below illustrates step-by-step how Copernicus Sentinel-5p carbon monoxide data can be retrieved from WEkEO with the help of the [Harmonized Data Access (HDA) API](https://wekeo.eu/hda-api).\n",
    "\n",
    "The HDA API workflow is a six-step process:\n",
    " - [1. Search for datasets on WEkEO](#wekeo_search)\n",
    " - [2. Get the API request](#wekeo_api_request)\n",
    " - [3. Get your WEkEO API key](#wekeo_api_key)\n",
    " - [4. Initialise the WEkEO Harmonised Data Access request](#wekeo_hda_request)\n",
    " - [5. Load data descriptor file and request data](#wekeo_json)\n",
    " - [6. Download requested data](#wekeo_download)"
   ]
  },
  {
   "cell_type": "markdown",
   "metadata": {},
   "source": [
    "All HDA API functions needed to retrieve data are stored in the notebook [hda_api_functions](./hda_api_functions.ipynb)."
   ]
  },
  {
   "cell_type": "markdown",
   "metadata": {},
   "source": [
    "<hr>"
   ]
  },
  {
   "cell_type": "markdown",
   "metadata": {},
   "source": [
    "#### Load required libraries"
   ]
  },
  {
   "cell_type": "code",
   "execution_count": 3,
   "metadata": {},
   "outputs": [],
   "source": [
    "import os\n",
    "import sys\n",
    "import json\n",
    "import time\n",
    "import base64\n",
    "\n",
    "import requests\n",
    "import warnings\n",
    "warnings.filterwarnings('ignore')"
   ]
  },
  {
   "cell_type": "markdown",
   "metadata": {},
   "source": [
    "#### Load helper functions"
   ]
  },
  {
   "cell_type": "code",
   "execution_count": 4,
   "metadata": {},
   "outputs": [],
   "source": [
    "from ipynb.fs.full.hda_api_functions import *"
   ]
  },
  {
   "cell_type": "markdown",
   "metadata": {},
   "source": [
    "<hr>"
   ]
  },
  {
   "cell_type": "markdown",
   "metadata": {},
   "source": [
    "### <a id='wekeo_search'></a>1. Search for datasets on WEkEO"
   ]
  },
  {
   "cell_type": "markdown",
   "metadata": {},
   "source": [
    "Under [WEkEO DATA](https://www.wekeo.eu/data), you can search all datasets available on WEkEO. To add additional layers, you have to click on the `+` sign, which opens the `Catalogue` interface.\n",
    "There are two search options:<br> \n",
    "- a `free keyword search`, and \n",
    "- a pre-defined `predefined keyword search`, that helps to filter the data based on `area`, `platform`, `data provider` and more.<br> \n",
    "\n",
    "Under `PLATFORM`, you can select *`Sentinel-5P`* and retrieve the results. You can either directly add the data to the map or you can click on `Details`, which opens a dataset description.\n",
    "\n",
    "When you click on `Add to map...`, a window opens where you can select one specific variable of Sentinel-5p TROPOMI. \n",
    "\n",
    "<br>\n",
    "\n",
    "<div style='text-align:center;'>\n",
    "<figure><img src='./img/wekeo_interface_s5p_1.png' width='90%' />\n",
    "    <figcaption><i>WEkEO interface to search for datasets</i></figcaption>\n",
    "</figure>\n",
    "</div>"
   ]
  },
  {
   "cell_type": "markdown",
   "metadata": {},
   "source": [
    "### <a id='wekeo_api_request'></a>2. Get the API request"
   ]
  },
  {
   "cell_type": "markdown",
   "metadata": {},
   "source": [
    "When a layer is added to the map, you can select the download icon, which opens an interface that allows you to tailor your data request.\n",
    "For Sentinel-5P, the following information can be selected:\n",
    "* `Bounding box`\n",
    "* `Sensing start stop time`\n",
    "* `Processing level`\n",
    "* `Product type`\n",
    "\n",
    "Once you made your selection, you can either directly requet the data or you can click on `Show API request`, which opens a window with the HDA API request for the specific data selection.\n",
    "\n",
    "\n",
    "<br>\n",
    "\n",
    "<div style='text-align:center;'>\n",
    "<figure><img src='./img/wekeo_interface_s5p_2.png' width='80%' />\n",
    "    <figcaption><i>Sentinel-5p API request - Example</i></figcaption>\n",
    "</figure>\n",
    "</div>\n",
    "<br>"
   ]
  },
  {
   "cell_type": "markdown",
   "metadata": {},
   "source": [
    "`Copy` the API request and save it as a `JSON` file. We did the same and you can open the `data descriptor` file for Sentinel-5p [here](./s5p_data_descriptor.json)."
   ]
  },
  {
   "cell_type": "markdown",
   "metadata": {},
   "source": [
    "Each dataset on WEkEO is assigned a unique `datasetId`. Let us store the dataset ID for Sentinel-5p as a variable called `dataset_id` to be used later."
   ]
  },
  {
   "cell_type": "code",
   "execution_count": 9,
   "metadata": {},
   "outputs": [],
   "source": [
    "dataset_id = \"EO:ESA:DAT:SENTINEL-5P:TROPOMI\""
   ]
  },
  {
   "cell_type": "markdown",
   "metadata": {},
   "source": [
    "### <a id='wekeo_api_key'></a>3. Get the WEkEO API key"
   ]
  },
  {
   "cell_type": "markdown",
   "metadata": {},
   "source": [
    "In order to interact with WEkEO's Harmonised Data Access API, each user gets assigned an `API key` and `API token`. You will need the API key in order to download data in a programmatic way.\n",
    "\n",
    "The `api key` is generated by encoding your `username` and `password` to Base64. You can use the function [generate_api_key](./hda_api_functions.ipynb#generate_api_key) to programmatically generate your Base64-encoded api key. For this, you have to replace the 'username' and 'password' strings with your WEkEO username and password in the cell below.\n",
    "\n",
    "Alternatively, you can go to this [website](https://www.base64encode.org/) that allows you to manually encode your `username:password` combination. An example of an encoded key is `wekeo-test:wekeo-test`, which is encoded to `d2VrZW8tdGVzdDp3ZWtlby10ZXN0`.\n"
   ]
  },
  {
   "cell_type": "code",
   "execution_count": 5,
   "metadata": {},
   "outputs": [],
   "source": [
    "user_name = 'jwagemann'\n",
    "password = '91db7389e023'"
   ]
  },
  {
   "cell_type": "code",
   "execution_count": 6,
   "metadata": {},
   "outputs": [
    {
     "data": {
      "text/plain": [
       "'andhZ2VtYW5uOjkxZGI3Mzg5ZTAyMw=='"
      ]
     },
     "execution_count": 6,
     "metadata": {},
     "output_type": "execute_result"
    }
   ],
   "source": [
    "api_key = generate_api_key(user_name, password)\n",
    "api_key"
   ]
  },
  {
   "cell_type": "markdown",
   "metadata": {},
   "source": [
    "##### Alternative: enter manually the generated api key"
   ]
  },
  {
   "cell_type": "code",
   "execution_count": null,
   "metadata": {},
   "outputs": [],
   "source": [
    "#api_key = "
   ]
  },
  {
   "cell_type": "markdown",
   "metadata": {},
   "source": [
    "### <a id='wekeo_hda_request'></a>4. Initialise the Harmonised Data Access (HDA) API request"
   ]
  },
  {
   "cell_type": "markdown",
   "metadata": {},
   "source": [
    "In order to initialise an API request, you have to initialise a dictionary that contains information on `dataset_id`, `api_key` and `download_directory_path`.\n",
    "\n",
    "Please enter the path of the directory where the data shall be downloaded to."
   ]
  },
  {
   "cell_type": "code",
   "execution_count": 7,
   "metadata": {},
   "outputs": [],
   "source": [
    "# Enter here the directory path where you want to download the data to\n",
    "download_dir_path = './data/'"
   ]
  },
  {
   "cell_type": "markdown",
   "metadata": {},
   "source": [
    "With `dataset_id`, `api_key` and `download_dir_path`, you can initialise the dictionary with the function [init](./hda_api_functions.ipynb#init)."
   ]
  },
  {
   "cell_type": "code",
   "execution_count": 10,
   "metadata": {},
   "outputs": [],
   "source": [
    "hda_dict = init(dataset_id, api_key, download_dir_path)"
   ]
  },
  {
   "cell_type": "markdown",
   "metadata": {},
   "source": [
    "#### Request access token"
   ]
  },
  {
   "cell_type": "markdown",
   "metadata": {},
   "source": [
    "Once initialised, you can request an access token with the function [get_access_token](./hda_api_functions.ipynb#get_access_token). The access token is stored in the `hda_dict` dictionary.\n",
    "\n",
    "You might need to accept the Terms and Conditions, which you can do with the function [acceptTandC](./hda_api_functions.ipynb#acceptTandC)."
   ]
  },
  {
   "cell_type": "code",
   "execution_count": 11,
   "metadata": {},
   "outputs": [
    {
     "name": "stdout",
     "output_type": "stream",
     "text": [
      "Getting an access token. This token is valid for one hour only.\n",
      "Success: Access token is 4976b524-86e2-3c96-808e-eb16e7bf2b10\n"
     ]
    }
   ],
   "source": [
    "hda_dict = get_access_token(hda_dict)"
   ]
  },
  {
   "cell_type": "markdown",
   "metadata": {},
   "source": [
    "#### Accept Terms and Conditions (if applicable)"
   ]
  },
  {
   "cell_type": "code",
   "execution_count": 12,
   "metadata": {},
   "outputs": [
    {
     "name": "stdout",
     "output_type": "stream",
     "text": [
      "Copernicus_General_License Terms and Conditions already accepted\n"
     ]
    }
   ],
   "source": [
    "hda_dict = acceptTandC(hda_dict)"
   ]
  },
  {
   "cell_type": "markdown",
   "metadata": {},
   "source": [
    "### <a id='wekeo_json'></a>5. Load data descriptor file and request data"
   ]
  },
  {
   "cell_type": "markdown",
   "metadata": {},
   "source": [
    "The Harmonised Data Access API can read your data request from a `JSON` file. In this JSON-based file, you can describe the dataset you are interested in downloading. The file is in principle a dictionary. The following keys can be defined:\n",
    "- `datasetID`: the dataset's collection ID\n",
    "- `stringChoiceValues`: type of dataset, e.g. 'processing level' or 'product type'\n",
    "- `dataRangeSelectValues`: time period you would like to retrieve data\n",
    "- `boundingBoxValues`: optional to define a subset of a global field\n",
    "\n",
    "You can load the `JSON` file with `json.load()`."
   ]
  },
  {
   "cell_type": "code",
   "execution_count": 13,
   "metadata": {},
   "outputs": [
    {
     "data": {
      "text/plain": [
       "{'datasetId': 'EO:ESA:DAT:SENTINEL-5P:TROPOMI',\n",
       " 'boundingBoxValues': [{'name': 'bbox',\n",
       "   'bbox': [135.39739634141876,\n",
       "    -44.52932633885725,\n",
       "    162.5751370327434,\n",
       "    -13.045119366579158]}],\n",
       " 'dateRangeSelectValues': [{'name': 'position',\n",
       "   'start': '2019-12-30T00:00:00.000Z',\n",
       "   'end': '2019-12-30T06:00:00.000Z'}],\n",
       " 'stringChoiceValues': [{'name': 'productType', 'value': 'L2__NO2___'},\n",
       "  {'name': 'processingLevel', 'value': 'LEVEL2'}]}"
      ]
     },
     "execution_count": 13,
     "metadata": {},
     "output_type": "execute_result"
    }
   ],
   "source": [
    "with open('./s5p_data_descriptor.json', 'r') as f:\n",
    "    data = json.load(f)\n",
    "data"
   ]
  },
  {
   "cell_type": "markdown",
   "metadata": {},
   "source": [
    "#### Initiate the request by assigning a job ID"
   ]
  },
  {
   "cell_type": "markdown",
   "metadata": {},
   "source": [
    "The function [get_job_id](./hda_api_functions.ipynb#get_job_id) will launch your data request and your request is assigned a `job ID`."
   ]
  },
  {
   "cell_type": "code",
   "execution_count": 14,
   "metadata": {},
   "outputs": [
    {
     "name": "stdout",
     "output_type": "stream",
     "text": [
      "Query successfully submitted. Job ID is JTSeSit009eESSgVo9a9MoazkrQ\n",
      "Query successfully submitted. Status is running\n",
      "Query successfully submitted. Status is running\n",
      "Query successfully submitted. Status is completed\n"
     ]
    }
   ],
   "source": [
    "hda_dict = get_job_id(hda_dict,data)"
   ]
  },
  {
   "cell_type": "markdown",
   "metadata": {},
   "source": [
    "#### Build list of file names to be ordered and downloaded"
   ]
  },
  {
   "cell_type": "markdown",
   "metadata": {},
   "source": [
    "The next step is to gather a list of file names available, based on your assigned `job ID`. The function [get_results_list](./hda_api_functions.ipynb#get_results_list) creates the list."
   ]
  },
  {
   "cell_type": "code",
   "execution_count": 15,
   "metadata": {},
   "outputs": [
    {
     "name": "stdout",
     "output_type": "stream",
     "text": [
      "************** Results *******************************n\n",
      "{\n",
      "     \"content\": [\n",
      "          {\n",
      "               \"downloadUri\": null,\n",
      "               \"filename\": \"S5P_OFFL_L2__NO2____20191230T045347_20191230T063517_11461_01_010302_20191231T220300\",\n",
      "               \"order\": null,\n",
      "               \"productInfo\": {\n",
      "                    \"datasetId\": \"EO:ESA:DAT:SENTINEL-5P:TROPOMI\",\n",
      "                    \"product\": \"S5P_OFFL_L2__NO2____20191230T045347_20191230T063517_11461_01_010302_20191231T220300\",\n",
      "                    \"productEndDate\": \"2019-12-30T06:13:45Z\",\n",
      "                    \"productStartDate\": \"2019-12-30T05:15:22Z\"\n",
      "               },\n",
      "               \"size\": 452470049,\n",
      "               \"url\": \"219ffa95-6004-5174-8b37-b6bc76ccd3bf/S5P_OFFL_L2__NO2____20191230T045347_20191230T063517_11461_01_010302_20191231T220300\"\n",
      "          },\n",
      "          {\n",
      "               \"downloadUri\": null,\n",
      "               \"filename\": \"S5P_NRTI_L2__NO2____20191230T054108_20191230T054608_11461_01_010302_20191230T063049\",\n",
      "               \"order\": null,\n",
      "               \"productInfo\": {\n",
      "                    \"datasetId\": \"EO:ESA:DAT:SENTINEL-5P:TROPOMI\",\n",
      "                    \"product\": \"S5P_NRTI_L2__NO2____20191230T054108_20191230T054608_11461_01_010302_20191230T063049\",\n",
      "                    \"productEndDate\": \"2019-12-30T05:46:15Z\",\n",
      "                    \"productStartDate\": \"2019-12-30T05:41:02Z\"\n",
      "               },\n",
      "               \"size\": 45907227,\n",
      "               \"url\": \"05bb705f-963f-5da4-8d7e-64d7ad71ddd2/S5P_NRTI_L2__NO2____20191230T054108_20191230T054608_11461_01_010302_20191230T063049\"\n",
      "          },\n",
      "          {\n",
      "               \"downloadUri\": null,\n",
      "               \"filename\": \"S5P_NRTI_L2__NO2____20191230T053608_20191230T054108_11461_01_010302_20191230T062521\",\n",
      "               \"order\": null,\n",
      "               \"productInfo\": {\n",
      "                    \"datasetId\": \"EO:ESA:DAT:SENTINEL-5P:TROPOMI\",\n",
      "                    \"product\": \"S5P_NRTI_L2__NO2____20191230T053608_20191230T054108_11461_01_010302_20191230T062521\",\n",
      "                    \"productEndDate\": \"2019-12-30T05:41:15Z\",\n",
      "                    \"productStartDate\": \"2019-12-30T05:36:02Z\"\n",
      "               },\n",
      "               \"size\": 46201779,\n",
      "               \"url\": \"05aafa9f-3295-51b3-a715-0021fac856d6/S5P_NRTI_L2__NO2____20191230T053608_20191230T054108_11461_01_010302_20191230T062521\"\n",
      "          },\n",
      "          {\n",
      "               \"downloadUri\": null,\n",
      "               \"filename\": \"S5P_OFFL_L2__NO2____20191230T031217_20191230T045347_11460_01_010302_20191231T201517\",\n",
      "               \"order\": null,\n",
      "               \"productInfo\": {\n",
      "                    \"datasetId\": \"EO:ESA:DAT:SENTINEL-5P:TROPOMI\",\n",
      "                    \"product\": \"S5P_OFFL_L2__NO2____20191230T031217_20191230T045347_11460_01_010302_20191231T201517\",\n",
      "                    \"productEndDate\": \"2019-12-30T04:32:15Z\",\n",
      "                    \"productStartDate\": \"2019-12-30T03:33:51Z\"\n",
      "               },\n",
      "               \"size\": 451324934,\n",
      "               \"url\": \"f74b3b95-c9ef-5f2d-90b7-5715e1c47d80/S5P_OFFL_L2__NO2____20191230T031217_20191230T045347_11460_01_010302_20191231T201517\"\n",
      "          },\n",
      "          {\n",
      "               \"downloadUri\": null,\n",
      "               \"filename\": \"S5P_NRTI_L2__NO2____20191230T040608_20191230T041108_11460_01_010302_20191230T045450\",\n",
      "               \"order\": null,\n",
      "               \"productInfo\": {\n",
      "                    \"datasetId\": \"EO:ESA:DAT:SENTINEL-5P:TROPOMI\",\n",
      "                    \"product\": \"S5P_NRTI_L2__NO2____20191230T040608_20191230T041108_11460_01_010302_20191230T045450\",\n",
      "                    \"productEndDate\": \"2019-12-30T04:11:14Z\",\n",
      "                    \"productStartDate\": \"2019-12-30T04:06:03Z\"\n",
      "               },\n",
      "               \"size\": 47137584,\n",
      "               \"url\": \"bde4a9d0-ed10-55ff-96e4-c912ec4256e9/S5P_NRTI_L2__NO2____20191230T040608_20191230T041108_11460_01_010302_20191230T045450\"\n",
      "          },\n",
      "          {\n",
      "               \"downloadUri\": null,\n",
      "               \"filename\": \"S5P_NRTI_L2__NO2____20191230T040108_20191230T040608_11460_01_010302_20191230T045002\",\n",
      "               \"order\": null,\n",
      "               \"productInfo\": {\n",
      "                    \"datasetId\": \"EO:ESA:DAT:SENTINEL-5P:TROPOMI\",\n",
      "                    \"product\": \"S5P_NRTI_L2__NO2____20191230T040108_20191230T040608_11460_01_010302_20191230T045002\",\n",
      "                    \"productEndDate\": \"2019-12-30T04:06:14Z\",\n",
      "                    \"productStartDate\": \"2019-12-30T04:01:02Z\"\n",
      "               },\n",
      "               \"size\": 47196033,\n",
      "               \"url\": \"b68cd488-c597-54e9-bf3a-35e8178b0771/S5P_NRTI_L2__NO2____20191230T040108_20191230T040608_11460_01_010302_20191230T045002\"\n",
      "          },\n",
      "          {\n",
      "               \"downloadUri\": null,\n",
      "               \"filename\": \"S5P_NRTI_L2__NO2____20191230T035608_20191230T040108_11460_01_010302_20191230T044742\",\n",
      "               \"order\": null,\n",
      "               \"productInfo\": {\n",
      "                    \"datasetId\": \"EO:ESA:DAT:SENTINEL-5P:TROPOMI\",\n",
      "                    \"product\": \"S5P_NRTI_L2__NO2____20191230T035608_20191230T040108_11460_01_010302_20191230T044742\",\n",
      "                    \"productEndDate\": \"2019-12-30T04:01:15Z\",\n",
      "                    \"productStartDate\": \"2019-12-30T03:56:02Z\"\n",
      "               },\n",
      "               \"size\": 46603385,\n",
      "               \"url\": \"a38ddf7f-6d84-575c-b791-a8034bc59b97/S5P_NRTI_L2__NO2____20191230T035608_20191230T040108_11460_01_010302_20191230T044742\"\n",
      "          },\n",
      "          {\n",
      "               \"downloadUri\": null,\n",
      "               \"filename\": \"S5P_NRTI_L2__NO2____20191230T035108_20191230T035608_11460_01_010302_20191230T044534\",\n",
      "               \"order\": null,\n",
      "               \"productInfo\": {\n",
      "                    \"datasetId\": \"EO:ESA:DAT:SENTINEL-5P:TROPOMI\",\n",
      "                    \"product\": \"S5P_NRTI_L2__NO2____20191230T035108_20191230T035608_11460_01_010302_20191230T044534\",\n",
      "                    \"productEndDate\": \"2019-12-30T03:56:15Z\",\n",
      "                    \"productStartDate\": \"2019-12-30T03:51:02Z\"\n",
      "               },\n",
      "               \"size\": 45103385,\n",
      "               \"url\": \"54069519-d13d-57e5-a26a-e4281e95dd5d/S5P_NRTI_L2__NO2____20191230T035108_20191230T035608_11460_01_010302_20191230T044534\"\n",
      "          },\n",
      "          {\n",
      "               \"downloadUri\": null,\n",
      "               \"filename\": \"S5P_OFFL_L2__NO2____20191230T013047_20191230T031217_11459_01_010302_20191231T181440\",\n",
      "               \"order\": null,\n",
      "               \"productInfo\": {\n",
      "                    \"datasetId\": \"EO:ESA:DAT:SENTINEL-5P:TROPOMI\",\n",
      "                    \"product\": \"S5P_OFFL_L2__NO2____20191230T013047_20191230T031217_11459_01_010302_20191231T181440\",\n",
      "                    \"productEndDate\": \"2019-12-30T02:44:38Z\",\n",
      "                    \"productStartDate\": \"2019-12-30T01:52:22Z\"\n",
      "               },\n",
      "               \"size\": 437425786,\n",
      "               \"url\": \"e1b6b392-5dc7-5f65-a9ca-ce76478ffde4/S5P_OFFL_L2__NO2____20191230T013047_20191230T031217_11459_01_010302_20191231T181440\"\n",
      "          },\n",
      "          {\n",
      "               \"downloadUri\": null,\n",
      "               \"filename\": \"S5P_NRTI_L2__NO2____20191230T022108_20191230T022608_11459_01_010302_20191230T031019\",\n",
      "               \"order\": null,\n",
      "               \"productInfo\": {\n",
      "                    \"datasetId\": \"EO:ESA:DAT:SENTINEL-5P:TROPOMI\",\n",
      "                    \"product\": \"S5P_NRTI_L2__NO2____20191230T022108_20191230T022608_11459_01_010302_20191230T031019\",\n",
      "                    \"productEndDate\": \"2019-12-30T02:26:14Z\",\n",
      "                    \"productStartDate\": \"2019-12-30T02:21:02Z\"\n",
      "               },\n",
      "               \"size\": 46035758,\n",
      "               \"url\": \"72c637f5-bbd0-5d8b-b48b-14c36e6a95f0/S5P_NRTI_L2__NO2____20191230T022108_20191230T022608_11459_01_010302_20191230T031019\"\n",
      "          }\n",
      "     ],\n",
      "     \"itemsInPage\": 10,\n",
      "     \"nextPage\": \"https://wekeo-broker.apps.mercator.dpi.wekeo.eu/databroker/datarequest/jobs/JTSeSit009eESSgVo9a9MoazkrQ/result?page=1&size=10\",\n",
      "     \"page\": 0,\n",
      "     \"pages\": 2,\n",
      "     \"previousPage\": null,\n",
      "     \"totItems\": 12\n",
      "}\n",
      "*******************************************\n"
     ]
    }
   ],
   "source": [
    "hda_dict = get_results_list(hda_dict)"
   ]
  },
  {
   "cell_type": "markdown",
   "metadata": {},
   "source": [
    "#### Create an `order ID` for each file to be downloaded"
   ]
  },
  {
   "cell_type": "markdown",
   "metadata": {},
   "source": [
    "The next step is to create an `order ID` for each file name to be downloaded. You can use the function [get_order_ids](./hda_api_functions.ipynb#get_order_ids)."
   ]
  },
  {
   "cell_type": "code",
   "execution_count": 16,
   "metadata": {
    "scrolled": false
   },
   "outputs": [
    {
     "name": "stdout",
     "output_type": "stream",
     "text": [
      "Query successfully submitted. Order ID is o1Q2IJAORT0SErbTgmSEBv_pcrw\n",
      "Query successfully submitted. Status is completed\n",
      "Query successfully submitted. Order ID is BGmnnFv6natvGpUXpXwOnPxPYEI\n",
      "Query successfully submitted. Status is completed\n",
      "Query successfully submitted. Order ID is IbYzW0aFvMb5ggRT76xczZyABmQ\n",
      "Query successfully submitted. Status is completed\n",
      "Query successfully submitted. Order ID is n9suoVHwfC1x8Bjgye6c3jhZ10E\n",
      "Query successfully submitted. Status is completed\n",
      "Query successfully submitted. Order ID is eIVlTIc01cN0_bvWbtrR6ltPDXk\n",
      "Query successfully submitted. Status is completed\n",
      "Query successfully submitted. Order ID is ZK_A5RVZb-9RKQMcq50VBQjNkz4\n",
      "Query successfully submitted. Status is completed\n",
      "Query successfully submitted. Order ID is V5u3lvuX732IHtv-byMurlkAEQ0\n",
      "Query successfully submitted. Status is completed\n",
      "Query successfully submitted. Order ID is 5ZsIsinVUoxG_W6mGU-DevQX7Bs\n",
      "Query successfully submitted. Status is completed\n",
      "Query successfully submitted. Order ID is olZSMlRKu-PR7q-LTOpiIydMgk8\n",
      "Query successfully submitted. Status is completed\n",
      "Query successfully submitted. Order ID is yyA6nx9UCuPKRTpc5soRly-dZzI\n",
      "Query successfully submitted. Status is completed\n"
     ]
    }
   ],
   "source": [
    "hda_dict = get_order_ids(hda_dict)"
   ]
  },
  {
   "cell_type": "markdown",
   "metadata": {},
   "source": [
    "### <a id='wekeo_download'></a>6. Download requested data"
   ]
  },
  {
   "cell_type": "markdown",
   "metadata": {},
   "source": [
    "As a final step, you can use the function [download_data](./hda_api_functions.ipynb#download_data) to initialize the data download and to download each file that has been assigned an `order ID`. "
   ]
  },
  {
   "cell_type": "code",
   "execution_count": null,
   "metadata": {},
   "outputs": [],
   "source": [
    "download_data(hda_dict)"
   ]
  },
  {
   "cell_type": "markdown",
   "metadata": {
    "Collapsed": "false"
   },
   "source": [
    "<br>"
   ]
  },
  {
   "cell_type": "markdown",
   "metadata": {
    "Collapsed": "false"
   },
   "source": [
    "<a href=\"./00_index.ipynb\"><< Index</a><br>\n",
    "<a href=\"./01_wekeo_atmosphere_data_overview.ipynb\"><< 01 - Overview - Atmosphere data products on WEkEO</a><span style=\"float:right;\"><a href=\"./11_sentinel5p_L2_load_browse.ipynb\">11 - Sentinel-5P Carbon Monoxide - Load and browse >></a></span>"
   ]
  },
  {
   "cell_type": "markdown",
   "metadata": {
    "Collapsed": "false"
   },
   "source": [
    "<hr>"
   ]
  },
  {
   "cell_type": "markdown",
   "metadata": {
    "Collapsed": "false"
   },
   "source": [
    "<img src='./img/all_partners_wekeo.png' alt='Logo EU Copernicus EUMETSAT' align='right' width='100%'></img>"
   ]
  }
 ],
 "metadata": {
  "kernelspec": {
   "display_name": "Python 3",
   "language": "python",
   "name": "python3"
  },
  "language_info": {
   "codemirror_mode": {
    "name": "ipython",
    "version": 3
   },
   "file_extension": ".py",
   "mimetype": "text/x-python",
   "name": "python",
   "nbconvert_exporter": "python",
   "pygments_lexer": "ipython3",
   "version": "3.7.0"
  }
 },
 "nbformat": 4,
 "nbformat_minor": 4
}
