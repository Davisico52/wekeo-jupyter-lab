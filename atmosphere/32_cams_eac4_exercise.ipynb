{
 "cells": [
  {
   "cell_type": "markdown",
   "metadata": {
    "Collapsed": "false"
   },
   "source": [
    "<img src='./img/LogoWekeo_Copernicus_RGB_0.png' alt='Logo EU Copernicus EUMETSAT' align='right' width='20%'></img>"
   ]
  },
  {
   "cell_type": "markdown",
   "metadata": {
    "Collapsed": "false"
   },
   "source": [
    "<a href=\"./00_index.ipynb\"><< Index</a><br>\n",
    "<a href=\"./31_cams_eac4_load_browse.ipynb\"><< 31 - CAMS EAC4 - Load and browse</a>"
   ]
  },
  {
   "cell_type": "markdown",
   "metadata": {},
   "source": [
    "<div class=\"alert alert-block alert-success\">\n",
    "<b>EXERCISE</b></div>"
   ]
  },
  {
   "cell_type": "markdown",
   "metadata": {
    "Collapsed": "false"
   },
   "source": [
    "# Copernicus Atmosphere Monitoring Service (CAMS) EAC4 "
   ]
  },
  {
   "cell_type": "markdown",
   "metadata": {
    "Collapsed": "false"
   },
   "source": [
    "The Copernicus Atmopshere Monitoring Service (CAMS) provides consistent and quality-controlled information related to air pollution and health and greenhouse gases. CAMS data consist of `global forecasts and analyses`, `global reanalyses`, `fire emissions` and `greenhouse gas flux inversions`."
   ]
  },
  {
   "cell_type": "markdown",
   "metadata": {
    "Collapsed": "false"
   },
   "source": [
    "#### Module outline:\n",
    "* [1 - Load, browse and plot CAMS fire emissions data](#cams_gfas)\n",
    "* [2 - Example - CAMS regional forecast data](#cams_regional)\n",
    "* [3 - Load, browse and plot CAMS greenhouse gas flux inversions](#load_ggf)"
   ]
  },
  {
   "cell_type": "markdown",
   "metadata": {
    "Collapsed": "false"
   },
   "source": [
    "#### Load required libraries"
   ]
  },
  {
   "cell_type": "code",
   "execution_count": 1,
   "metadata": {
    "Collapsed": "false"
   },
   "outputs": [],
   "source": [
    "%matplotlib inline\n",
    "import os\n",
    "import xarray as xr\n",
    "import numpy as np\n",
    "import netCDF4 as nc\n",
    "import pandas as pd\n",
    "\n",
    "import matplotlib.pyplot as plt\n",
    "import matplotlib.colors\n",
    "from matplotlib.cm import get_cmap\n",
    "import cartopy\n",
    "import cartopy.crs as ccrs\n",
    "from cartopy.mpl.gridliner import LONGITUDE_FORMATTER, LATITUDE_FORMATTER\n",
    "import cartopy.feature as cfeature\n",
    "\n",
    "from matplotlib.axes import Axes\n",
    "from cartopy.mpl.geoaxes import GeoAxes\n",
    "GeoAxes._pcolormesh_patched = Axes.pcolormesh\n",
    "\n",
    "import warnings\n",
    "warnings.simplefilter(action = \"ignore\", category = RuntimeWarning)"
   ]
  },
  {
   "cell_type": "code",
   "execution_count": 2,
   "metadata": {},
   "outputs": [],
   "source": [
    "from ipynb.fs.full.ltpy_functions import visualize_pcolormesh"
   ]
  },
  {
   "cell_type": "markdown",
   "metadata": {
    "Collapsed": "false"
   },
   "source": [
    "<hr>"
   ]
  },
  {
   "cell_type": "markdown",
   "metadata": {
    "Collapsed": "false"
   },
   "source": [
    "## <a id=\"cams_gfas\"></a>Load, browse and plot CAMS fire emissions data"
   ]
  },
  {
   "cell_type": "markdown",
   "metadata": {
    "Collapsed": "false"
   },
   "source": [
    "<br>"
   ]
  },
  {
   "cell_type": "markdown",
   "metadata": {},
   "source": [
    "## <a id='cams_regional'></a>Example - CAMS regional forecast data"
   ]
  },
  {
   "cell_type": "markdown",
   "metadata": {},
   "source": [
    "### Load CAMS station location data"
   ]
  },
  {
   "cell_type": "markdown",
   "metadata": {},
   "source": [
    "CAMS data offers regional forecast and station location data in `csv`. With the help of the Python library [Pandas](https://pandas.pydata.org/) and its function `read_csv`, csv files can easily be read.\n",
    "You can read the station locations and with `len()` you can see that it contains 2949 station data."
   ]
  },
  {
   "cell_type": "code",
   "execution_count": 11,
   "metadata": {},
   "outputs": [
    {
     "data": {
      "text/plain": [
       "2949"
      ]
     },
     "execution_count": 11,
     "metadata": {},
     "output_type": "execute_result"
    }
   ],
   "source": [
    "station_locations = '../eodata/cams/regional/csv/CAMS_WEB_LOCATIONS_V1.csv'\n",
    "\n",
    "locations = pd.read_csv(station_locations)\n",
    "len(locations)"
   ]
  },
  {
   "cell_type": "markdown",
   "metadata": {},
   "source": [
    "Pandas' `head()` function allows you to get the first couple of entries of the list. This is helpful to get an overview of the csv content. You see that the csv contains station `ID`, `name`, `Country`, `Latitude` and `Longitude` information."
   ]
  },
  {
   "cell_type": "code",
   "execution_count": 12,
   "metadata": {
    "scrolled": true
   },
   "outputs": [
    {
     "data": {
      "text/html": [
       "<div>\n",
       "<style scoped>\n",
       "    .dataframe tbody tr th:only-of-type {\n",
       "        vertical-align: middle;\n",
       "    }\n",
       "\n",
       "    .dataframe tbody tr th {\n",
       "        vertical-align: top;\n",
       "    }\n",
       "\n",
       "    .dataframe thead th {\n",
       "        text-align: right;\n",
       "    }\n",
       "</style>\n",
       "<table border=\"1\" class=\"dataframe\">\n",
       "  <thead>\n",
       "    <tr style=\"text-align: right;\">\n",
       "      <th></th>\n",
       "      <th>ID</th>\n",
       "      <th>Name</th>\n",
       "      <th>Country</th>\n",
       "      <th>Latitude</th>\n",
       "      <th>Longitude</th>\n",
       "    </tr>\n",
       "  </thead>\n",
       "  <tbody>\n",
       "    <tr>\n",
       "      <th>0</th>\n",
       "      <td>AMXX0003</td>\n",
       "      <td>Yerevan</td>\n",
       "      <td>Armenia</td>\n",
       "      <td>40.13</td>\n",
       "      <td>44.47</td>\n",
       "    </tr>\n",
       "    <tr>\n",
       "      <th>1</th>\n",
       "      <td>AMXX0001</td>\n",
       "      <td>Abovyan</td>\n",
       "      <td>Armenia</td>\n",
       "      <td>40.17</td>\n",
       "      <td>44.58</td>\n",
       "    </tr>\n",
       "    <tr>\n",
       "      <th>2</th>\n",
       "      <td>AMXX0002</td>\n",
       "      <td>Gyumri</td>\n",
       "      <td>Armenia</td>\n",
       "      <td>40.79</td>\n",
       "      <td>43.84</td>\n",
       "    </tr>\n",
       "    <tr>\n",
       "      <th>3</th>\n",
       "      <td>AUXX0097</td>\n",
       "      <td>Mattersburg</td>\n",
       "      <td>Austria</td>\n",
       "      <td>47.73</td>\n",
       "      <td>16.40</td>\n",
       "    </tr>\n",
       "    <tr>\n",
       "      <th>4</th>\n",
       "      <td>AUXX0100</td>\n",
       "      <td>Gussing</td>\n",
       "      <td>Austria</td>\n",
       "      <td>47.07</td>\n",
       "      <td>16.33</td>\n",
       "    </tr>\n",
       "  </tbody>\n",
       "</table>\n",
       "</div>"
      ],
      "text/plain": [
       "         ID         Name  Country  Latitude  Longitude\n",
       "0  AMXX0003      Yerevan  Armenia     40.13      44.47\n",
       "1  AMXX0001      Abovyan  Armenia     40.17      44.58\n",
       "2  AMXX0002       Gyumri  Armenia     40.79      43.84\n",
       "3  AUXX0097  Mattersburg  Austria     47.73      16.40\n",
       "4  AUXX0100      Gussing  Austria     47.07      16.33"
      ]
     },
     "execution_count": 12,
     "metadata": {},
     "output_type": "execute_result"
    }
   ],
   "source": [
    "locations.head()"
   ]
  },
  {
   "cell_type": "markdown",
   "metadata": {},
   "source": [
    "You can select a city and filter for entries for this location. Let's make an example with `Paris`. You can see that the dataset contains two entries, where the station `Name` contains the string `Paris`."
   ]
  },
  {
   "cell_type": "code",
   "execution_count": 13,
   "metadata": {},
   "outputs": [
    {
     "data": {
      "text/html": [
       "<div>\n",
       "<style scoped>\n",
       "    .dataframe tbody tr th:only-of-type {\n",
       "        vertical-align: middle;\n",
       "    }\n",
       "\n",
       "    .dataframe tbody tr th {\n",
       "        vertical-align: top;\n",
       "    }\n",
       "\n",
       "    .dataframe thead th {\n",
       "        text-align: right;\n",
       "    }\n",
       "</style>\n",
       "<table border=\"1\" class=\"dataframe\">\n",
       "  <thead>\n",
       "    <tr style=\"text-align: right;\">\n",
       "      <th></th>\n",
       "      <th>ID</th>\n",
       "      <th>Name</th>\n",
       "      <th>Country</th>\n",
       "      <th>Latitude</th>\n",
       "      <th>Longitude</th>\n",
       "    </tr>\n",
       "  </thead>\n",
       "  <tbody>\n",
       "    <tr>\n",
       "      <th>653</th>\n",
       "      <td>FRXX0077</td>\n",
       "      <td>Paris-Charles-De-Gaulle</td>\n",
       "      <td>France</td>\n",
       "      <td>48.87</td>\n",
       "      <td>2.33</td>\n",
       "    </tr>\n",
       "    <tr>\n",
       "      <th>710</th>\n",
       "      <td>FRXX0076</td>\n",
       "      <td>Paris</td>\n",
       "      <td>France</td>\n",
       "      <td>48.73</td>\n",
       "      <td>2.40</td>\n",
       "    </tr>\n",
       "  </tbody>\n",
       "</table>\n",
       "</div>"
      ],
      "text/plain": [
       "           ID                     Name Country  Latitude  Longitude\n",
       "653  FRXX0077  Paris-Charles-De-Gaulle  France     48.87       2.33\n",
       "710  FRXX0076                    Paris  France     48.73       2.40"
      ]
     },
     "execution_count": 13,
     "metadata": {},
     "output_type": "execute_result"
    }
   ],
   "source": [
    "city = 'Paris'\n",
    "locations[locations['Name'].str.contains(city)]"
   ]
  },
  {
   "cell_type": "markdown",
   "metadata": {},
   "source": [
    "### Load CAMS regional forecast data"
   ]
  },
  {
   "cell_type": "markdown",
   "metadata": {},
   "source": [
    "The same principle you can apply to load and read the regional forecast data. Let's use Pandas' `read_csv` function. By specifying a `DATE`, you can parse the file that contains the data for this specific day. Let's do an example to filter the data for `10 May 2018`.\n",
    "\n",
    "You see that the `csv` contains measurements of `O3`, `NO2`, `SO2`, `CO`, `PM10` and `PM2.5`."
   ]
  },
  {
   "cell_type": "code",
   "execution_count": 14,
   "metadata": {
    "scrolled": true
   },
   "outputs": [
    {
     "data": {
      "text/html": [
       "<div>\n",
       "<style scoped>\n",
       "    .dataframe tbody tr th:only-of-type {\n",
       "        vertical-align: middle;\n",
       "    }\n",
       "\n",
       "    .dataframe tbody tr th {\n",
       "        vertical-align: top;\n",
       "    }\n",
       "\n",
       "    .dataframe thead th {\n",
       "        text-align: right;\n",
       "    }\n",
       "</style>\n",
       "<table border=\"1\" class=\"dataframe\">\n",
       "  <thead>\n",
       "    <tr style=\"text-align: right;\">\n",
       "      <th></th>\n",
       "      <th></th>\n",
       "      <th>AQI</th>\n",
       "      <th>O3</th>\n",
       "      <th>NO2</th>\n",
       "      <th>SO2</th>\n",
       "      <th>CO</th>\n",
       "      <th>PM10</th>\n",
       "      <th>PM25</th>\n",
       "    </tr>\n",
       "    <tr>\n",
       "      <th>ID</th>\n",
       "      <th>Date_Time</th>\n",
       "      <th></th>\n",
       "      <th></th>\n",
       "      <th></th>\n",
       "      <th></th>\n",
       "      <th></th>\n",
       "      <th></th>\n",
       "      <th></th>\n",
       "    </tr>\n",
       "  </thead>\n",
       "  <tbody>\n",
       "    <tr>\n",
       "      <th rowspan=\"5\" valign=\"top\">ALXX0001</th>\n",
       "      <th>2018-05-11 01:00:00</th>\n",
       "      <td>2</td>\n",
       "      <td>49.31</td>\n",
       "      <td>2.23</td>\n",
       "      <td>0.96</td>\n",
       "      <td>160.87</td>\n",
       "      <td>12.79</td>\n",
       "      <td>11.84</td>\n",
       "    </tr>\n",
       "    <tr>\n",
       "      <th>2018-05-11 02:00:00</th>\n",
       "      <td>2</td>\n",
       "      <td>47.74</td>\n",
       "      <td>1.91</td>\n",
       "      <td>0.94</td>\n",
       "      <td>161.70</td>\n",
       "      <td>13.38</td>\n",
       "      <td>11.97</td>\n",
       "    </tr>\n",
       "    <tr>\n",
       "      <th>2018-05-11 03:00:00</th>\n",
       "      <td>2</td>\n",
       "      <td>46.72</td>\n",
       "      <td>1.64</td>\n",
       "      <td>0.93</td>\n",
       "      <td>162.34</td>\n",
       "      <td>13.64</td>\n",
       "      <td>11.91</td>\n",
       "    </tr>\n",
       "    <tr>\n",
       "      <th>2018-05-11 04:00:00</th>\n",
       "      <td>2</td>\n",
       "      <td>44.59</td>\n",
       "      <td>1.46</td>\n",
       "      <td>1.10</td>\n",
       "      <td>163.71</td>\n",
       "      <td>14.06</td>\n",
       "      <td>11.78</td>\n",
       "    </tr>\n",
       "    <tr>\n",
       "      <th>2018-05-11 05:00:00</th>\n",
       "      <td>2</td>\n",
       "      <td>52.69</td>\n",
       "      <td>1.74</td>\n",
       "      <td>1.30</td>\n",
       "      <td>165.78</td>\n",
       "      <td>14.29</td>\n",
       "      <td>11.01</td>\n",
       "    </tr>\n",
       "  </tbody>\n",
       "</table>\n",
       "</div>"
      ],
      "text/plain": [
       "                              AQI     O3   NO2   SO2      CO   PM10   PM25\n",
       "ID       Date_Time                                                        \n",
       "ALXX0001 2018-05-11 01:00:00    2  49.31  2.23  0.96  160.87  12.79  11.84\n",
       "         2018-05-11 02:00:00    2  47.74  1.91  0.94  161.70  13.38  11.97\n",
       "         2018-05-11 03:00:00    2  46.72  1.64  0.93  162.34  13.64  11.91\n",
       "         2018-05-11 04:00:00    2  44.59  1.46  1.10  163.71  14.06  11.78\n",
       "         2018-05-11 05:00:00    2  52.69  1.74  1.30  165.78  14.29  11.01"
      ]
     },
     "execution_count": 14,
     "metadata": {},
     "output_type": "execute_result"
    }
   ],
   "source": [
    "DATE='20180510'\n",
    "DPLUS=1\n",
    "\n",
    "datafile = '../eodata/cams/regional/csv/CAMS_WEB_FORECAST_%s_D+%d.csv.gz'\n",
    "path = datafile % (DATE, DPLUS)\n",
    "aq_data = pd.read_csv(path, index_col=['ID', 'Date_Time'], parse_dates=[['Date','Time']] )\n",
    "aq_data.head()"
   ]
  },
  {
   "cell_type": "markdown",
   "metadata": {},
   "source": [
    "### Visualize regional `Air Quality` forecast data for one specific station location"
   ]
  },
  {
   "cell_type": "markdown",
   "metadata": {},
   "source": [
    "We can now filter the station ID for `Paris-Charles-de-Gaulle` and visualize all `Air Quality` forecast parameters for `11 May 2018`."
   ]
  },
  {
   "cell_type": "code",
   "execution_count": 15,
   "metadata": {
    "scrolled": false
   },
   "outputs": [
    {
     "data": {
      "image/png": "[encoded data removed]",
      "text/plain": [
       "<Figure size 1080x576 with 1 Axes>"
      ]
     },
     "metadata": {
      "needs_background": "light"
     },
     "output_type": "display_data"
    }
   ],
   "source": [
    "aq_data.loc['FRXX0077'].plot.line(figsize=(15,8),linestyle='dashed')\n",
    "\n",
    "plt.xticks(fontsize=16)\n",
    "plt.yticks(fontsize=16)\n",
    "\n",
    "plt.title('CAMS regional forecast data - 11 May 2018', fontsize=20, pad=20)\n",
    "\n",
    "plt.ylabel('Unit', fontsize=16)\n",
    "plt.xlabel('Hour', fontsize=16)\n",
    "\n",
    "plt.legend(fontsize=16,loc=1)\n",
    "plt.show()"
   ]
  },
  {
   "cell_type": "markdown",
   "metadata": {},
   "source": [
    "<br>"
   ]
  },
  {
   "cell_type": "markdown",
   "metadata": {
    "Collapsed": "false"
   },
   "source": [
    "<br>"
   ]
  },
  {
   "cell_type": "markdown",
   "metadata": {
    "Collapsed": "false"
   },
   "source": [
    "<a href=\"./00_index.ipynb\"><< Index</a><br>\n",
    "<a href=\"./31_cams_eac4_load_browse.ipynb\"><< 31 - CAMS EAC4 - Load and browse</a>"
   ]
  },
  {
   "cell_type": "markdown",
   "metadata": {
    "Collapsed": "false"
   },
   "source": [
    "<hr>"
   ]
  },
  {
   "cell_type": "markdown",
   "metadata": {
    "Collapsed": "false"
   },
   "source": [
    "<p><img src='./img/all_partners_wekeo.png' align='left' alt='Logo EU Copernicus' width='100%'></img></p>\n",
    "<br clear=left>\n",
    "<p style=\"text-align:left;\">This project is licensed under the <a href=\"./LICENSE\">MIT License</a> <span style=\"float:right;\"><a href=\"https://gitlab.eumetsat.int/eumetlab/atmosphere/atmosphere\">View on Github</a>"
   ]
  }
 ],
 "metadata": {
  "kernelspec": {
   "display_name": "Python 3",
   "language": "python",
   "name": "python3"
  },
  "language_info": {
   "codemirror_mode": {
    "name": "ipython",
    "version": 3
   },
   "file_extension": ".py",
   "mimetype": "text/x-python",
   "name": "python",
   "nbconvert_exporter": "python",
   "pygments_lexer": "ipython3",
   "version": "3.7.0"
  }
 },
 "nbformat": 4,
 "nbformat_minor": 4
}
